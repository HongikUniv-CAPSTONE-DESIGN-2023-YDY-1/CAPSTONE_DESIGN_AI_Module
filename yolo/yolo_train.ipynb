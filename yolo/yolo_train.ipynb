{
 "cells": [
  {
   "cell_type": "code",
   "execution_count": 1,
   "id": "8a719bca",
   "metadata": {},
   "outputs": [
    {
     "name": "stdout",
     "output_type": "stream",
     "text": [
      "C:\\Users\\sj990\\MachineLearning\\CAPSTONE_DESIGN_AI_Module\\yolo\\yolov5\n"
     ]
    }
   ],
   "source": [
    "cd yolov5"
   ]
  },
  {
   "cell_type": "code",
   "execution_count": 2,
   "id": "170215b0",
   "metadata": {},
   "outputs": [
    {
     "data": {
      "text/plain": [
       "'C:\\\\Users\\\\sj990\\\\MachineLearning\\\\CAPSTONE_DESIGN_AI_Module\\\\yolo\\\\yolov5'"
      ]
     },
     "execution_count": 2,
     "metadata": {},
     "output_type": "execute_result"
    }
   ],
   "source": [
    "pwd"
   ]
  },
  {
   "cell_type": "code",
   "execution_count": 6,
   "id": "818eb56c",
   "metadata": {},
   "outputs": [
    {
     "name": "stdout",
     "output_type": "stream",
     "text": [
      "Requirement already satisfied: gitpython>=3.1.30 in c:\\users\\sj990\\anaconda3\\envs\\yolo\\lib\\site-packages (from -r requirements.txt (line 5)) (3.1.36)\n",
      "Requirement already satisfied: matplotlib>=3.3 in c:\\users\\sj990\\anaconda3\\envs\\yolo\\lib\\site-packages (from -r requirements.txt (line 6)) (3.5.3)\n",
      "Requirement already satisfied: numpy>=1.18.5 in c:\\users\\sj990\\anaconda3\\envs\\yolo\\lib\\site-packages (from -r requirements.txt (line 7)) (1.21.6)\n",
      "Requirement already satisfied: opencv-python>=4.1.1 in c:\\users\\sj990\\anaconda3\\envs\\yolo\\lib\\site-packages (from -r requirements.txt (line 8)) (4.8.0.76)\n",
      "Requirement already satisfied: Pillow>=7.1.2 in c:\\users\\sj990\\anaconda3\\envs\\yolo\\lib\\site-packages (from -r requirements.txt (line 9)) (9.5.0)\n",
      "Requirement already satisfied: psutil in c:\\users\\sj990\\anaconda3\\envs\\yolo\\lib\\site-packages (from -r requirements.txt (line 10)) (5.9.5)\n",
      "Requirement already satisfied: PyYAML>=5.3.1 in c:\\users\\sj990\\anaconda3\\envs\\yolo\\lib\\site-packages (from -r requirements.txt (line 11)) (6.0.1)\n",
      "Requirement already satisfied: requests>=2.23.0 in c:\\users\\sj990\\anaconda3\\envs\\yolo\\lib\\site-packages (from -r requirements.txt (line 12)) (2.31.0)\n",
      "Requirement already satisfied: scipy>=1.4.1 in c:\\users\\sj990\\anaconda3\\envs\\yolo\\lib\\site-packages (from -r requirements.txt (line 13)) (1.7.3)\n",
      "Requirement already satisfied: thop>=0.1.1 in c:\\users\\sj990\\anaconda3\\envs\\yolo\\lib\\site-packages (from -r requirements.txt (line 14)) (0.1.1.post2209072238)\n",
      "Requirement already satisfied: torch>=1.7.0 in c:\\users\\sj990\\anaconda3\\envs\\yolo\\lib\\site-packages (from -r requirements.txt (line 15)) (1.13.1)\n",
      "Requirement already satisfied: torchvision>=0.8.1 in c:\\users\\sj990\\anaconda3\\envs\\yolo\\lib\\site-packages (from -r requirements.txt (line 16)) (0.14.1)\n",
      "Requirement already satisfied: tqdm>=4.64.0 in c:\\users\\sj990\\anaconda3\\envs\\yolo\\lib\\site-packages (from -r requirements.txt (line 17)) (4.66.1)\n",
      "Requirement already satisfied: ultralytics>=8.0.145 in c:\\users\\sj990\\anaconda3\\envs\\yolo\\lib\\site-packages (from -r requirements.txt (line 18)) (8.0.145)\n",
      "Collecting tensorboard>=2.4.1 (from -r requirements.txt (line 22))\n",
      "  Using cached tensorboard-2.11.2-py3-none-any.whl (6.0 MB)\n",
      "Collecting clearml>=1.2.0 (from -r requirements.txt (line 23))\n",
      "  Obtaining dependency information for clearml>=1.2.0 from https://files.pythonhosted.org/packages/08/69/63592fc3823a0dc52b484fda546588a0db4e60dafe0c3788de578c7c1849/clearml-1.12.2-py2.py3-none-any.whl.metadata\n",
      "  Downloading clearml-1.12.2-py2.py3-none-any.whl.metadata (16 kB)\n",
      "Requirement already satisfied: pandas>=1.1.4 in c:\\users\\sj990\\anaconda3\\envs\\yolo\\lib\\site-packages (from -r requirements.txt (line 27)) (1.3.5)\n",
      "Requirement already satisfied: seaborn>=0.11.0 in c:\\users\\sj990\\anaconda3\\envs\\yolo\\lib\\site-packages (from -r requirements.txt (line 28)) (0.12.2)\n",
      "Collecting coremltools>=6.0 (from -r requirements.txt (line 31))\n",
      "  Downloading coremltools-7.0.tar.gz (1.2 MB)\n",
      "     ---------------------------------------- 1.2/1.2 MB 7.3 MB/s eta 0:00:00\n",
      "  Preparing metadata (setup.py): started\n",
      "  Preparing metadata (setup.py): finished with status 'done'\n",
      "Collecting onnx>=1.10.0 (from -r requirements.txt (line 32))\n",
      "  Obtaining dependency information for onnx>=1.10.0 from https://files.pythonhosted.org/packages/95/60/71238bb49fac30ad7ab7958f197f4418e3790a9f6cdd39231d955d554b7c/onnx-1.14.1-cp37-cp37m-win_amd64.whl.metadata\n",
      "  Downloading onnx-1.14.1-cp37-cp37m-win_amd64.whl.metadata (15 kB)\n",
      "Collecting onnx-simplifier>=0.4.1 (from -r requirements.txt (line 33))\n",
      "  Obtaining dependency information for onnx-simplifier>=0.4.1 from https://files.pythonhosted.org/packages/b1/f4/a012b0b21db2e22d1def94e65779995520627079b2eebd15f494782639c9/onnx_simplifier-0.4.33-cp37-cp37m-win_amd64.whl.metadata\n",
      "  Downloading onnx_simplifier-0.4.33-cp37-cp37m-win_amd64.whl.metadata (4.4 kB)\n",
      "Collecting nvidia-pyindex (from -r requirements.txt (line 34))\n",
      "  Downloading nvidia-pyindex-1.0.9.tar.gz (10 kB)\n",
      "  Preparing metadata (setup.py): started\n",
      "  Preparing metadata (setup.py): finished with status 'done'\n",
      "Collecting nvidia-tensorrt (from -r requirements.txt (line 35))\n",
      "  Downloading nvidia-tensorrt-0.0.1.dev5.tar.gz (7.9 kB)\n",
      "  Preparing metadata (setup.py): started\n",
      "  Preparing metadata (setup.py): finished with status 'error'\n",
      "Note: you may need to restart the kernel to use updated packages.\n"
     ]
    },
    {
     "name": "stderr",
     "output_type": "stream",
     "text": [
      "  error: subprocess-exited-with-error\n",
      "  \n",
      "  python setup.py egg_info did not run successfully.\n",
      "  exit code: 1\n",
      "  \n",
      "  [17 lines of output]\n",
      "  Traceback (most recent call last):\n",
      "    File \"<string>\", line 36, in <module>\n",
      "    File \"<pip-setuptools-caller>\", line 34, in <module>\n",
      "    File \"C:\\Users\\sj990\\AppData\\Local\\Temp\\pip-install-3j9_4qnx\\nvidia-tensorrt_bcdeaee36f22402f82c647a7c08f7f6c\\setup.py\", line 150, in <module>\n",
      "      raise RuntimeError(open(\"ERROR.txt\", \"r\").read())\n",
      "  RuntimeError:\n",
      "  ###########################################################################################\n",
      "  The package you are trying to install is only a placeholder project on PyPI.org repository.\n",
      "  This package is hosted on NVIDIA Python Package Index.\n",
      "  \n",
      "  This package can be installed as:\n",
      "  ```\n",
      "  $ pip install nvidia-pyindex\n",
      "  $ pip install nvidia-tensorrt\n",
      "  ```\n",
      "  ###########################################################################################\n",
      "  \n",
      "  [end of output]\n",
      "  \n",
      "  note: This error originates from a subprocess, and is likely not a problem with pip.\n",
      "error: metadata-generation-failed\n",
      "\n",
      "Encountered error while generating package metadata.\n",
      "\n",
      "See above for output.\n",
      "\n",
      "note: This is an issue with the package mentioned above, not pip.\n",
      "hint: See above for details.\n"
     ]
    }
   ],
   "source": [
    "pip install -r requirements.txt"
   ]
  },
  {
   "cell_type": "code",
   "execution_count": 7,
   "id": "f42e8ea3",
   "metadata": {},
   "outputs": [
    {
     "name": "stdout",
     "output_type": "stream",
     "text": [
      "1\n"
     ]
    }
   ],
   "source": [
    "print(1)"
   ]
  },
  {
   "cell_type": "code",
   "execution_count": 8,
   "id": "d952995f",
   "metadata": {},
   "outputs": [
    {
     "name": "stderr",
     "output_type": "stream",
     "text": [
      "Traceback (most recent call last):\n",
      "  File \"C:\\Users\\sj990\\MachineLearning\\CAPSTONE_DESIGN_AI_Module\\yolo\\yolov5\\train.py\", line 61, in <module>\n",
      "    from utils.loggers import Loggers\n",
      "  File \"C:\\Users\\sj990\\MachineLearning\\CAPSTONE_DESIGN_AI_Module\\yolo\\yolov5\\utils\\loggers\\__init__.py\", line 23, in <module>\n",
      "    from torch.utils.tensorboard import SummaryWriter\n",
      "  File \"C:\\Users\\sj990\\anaconda3\\lib\\site-packages\\torch\\utils\\tensorboard\\__init__.py\", line 12, in <module>\n",
      "    from .writer import FileWriter, SummaryWriter  # noqa: F401\n",
      "  File \"C:\\Users\\sj990\\anaconda3\\lib\\site-packages\\torch\\utils\\tensorboard\\writer.py\", line 16, in <module>\n",
      "    from ._embedding import (\n",
      "  File \"C:\\Users\\sj990\\anaconda3\\lib\\site-packages\\torch\\utils\\tensorboard\\_embedding.py\", line 9, in <module>\n",
      "    _HAS_GFILE_JOIN = hasattr(tf.io.gfile, \"join\")\n",
      "  File \"C:\\Users\\sj990\\anaconda3\\lib\\site-packages\\tensorboard\\lazy.py\", line 65, in __getattr__\n",
      "    return getattr(load_once(self), attr_name)\n",
      "AttributeError: module 'tensorflow' has no attribute 'io'\n"
     ]
    }
   ],
   "source": [
    "# Train YOLOv5s on COCO128 for 3 epochs\n",
    "!python train.py --batch 32 --epochs 50 --data custom_data_v5.yaml --weights yolov5s.pt --cache"
   ]
  },
  {
   "cell_type": "code",
   "execution_count": null,
   "id": "d28c66ea",
   "metadata": {},
   "outputs": [],
   "source": []
  },
  {
   "cell_type": "code",
   "execution_count": null,
   "id": "57d9086b",
   "metadata": {},
   "outputs": [],
   "source": [
    "#detet\n",
    "!python detect.py --weights runs/train/exp10/weights/best.pt --img 640 --conf 0.25 --source /content/drive/MyDrive/pred_img/1.jpg"
   ]
  },
  {
   "cell_type": "code",
   "execution_count": null,
   "id": "616c392d",
   "metadata": {},
   "outputs": [],
   "source": []
  }
 ],
 "metadata": {
  "kernelspec": {
   "display_name": "yolo",
   "language": "python",
   "name": "yolo"
  },
  "language_info": {
   "codemirror_mode": {
    "name": "ipython",
    "version": 3
   },
   "file_extension": ".py",
   "mimetype": "text/x-python",
   "name": "python",
   "nbconvert_exporter": "python",
   "pygments_lexer": "ipython3",
   "version": "3.7.16"
  }
 },
 "nbformat": 4,
 "nbformat_minor": 5
}
