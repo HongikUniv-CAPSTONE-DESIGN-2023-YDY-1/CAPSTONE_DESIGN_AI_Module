{
 "cells": [
  {
   "cell_type": "code",
   "execution_count": 2,
   "id": "9d8a5d15",
   "metadata": {},
   "outputs": [
    {
     "name": "stderr",
     "output_type": "stream",
     "text": [
      "\u001b[34m\u001b[1mdetect: \u001b[0mweights=['best_noodle.pt'], source=1.jpg, data=yolov5\\data\\coco128.yaml, imgsz=[640, 640], conf_thres=0.25, iou_thres=0.45, max_det=1000, device=, view_img=False, save_txt=False, save_conf=False, save_crop=False, nosave=False, classes=None, agnostic_nms=False, augment=False, visualize=False, update=False, project=yolov5\\runs\\detect, name=exp, exist_ok=False, line_thickness=3, hide_labels=False, hide_conf=False, half=False, dnn=False, vid_stride=1\n",
      "YOLOv5  v7.0-198-g34c2187 Python-3.9.7 torch-2.0.0+cpu CPU\n",
      "\n",
      "Fusing layers... \n",
      "Model summary: 157 layers, 7012822 parameters, 0 gradients, 15.8 GFLOPs\n",
      "image 1/1 C:\\Users\\sj990\\MachineLearning\\CAPSTONE_DESIGN_AI_Module\\yolo\\1.jpg: 640x480 2 noodles, 102.7ms\n",
      "Speed: 0.0ms pre-process, 102.7ms inference, 0.0ms NMS per image at shape (1, 3, 640, 640)\n",
      "Results saved to \u001b[1myolov5\\runs\\detect\\exp2\u001b[0m\n"
     ]
    }
   ],
   "source": [
    "!python yolov5/detect.py --weights best_noodle.pt --img 640 --conf 0.25 --source 1.jpg"
   ]
  },
  {
   "cell_type": "code",
   "execution_count": 23,
   "id": "5feab477",
   "metadata": {},
   "outputs": [
    {
     "name": "stderr",
     "output_type": "stream",
     "text": [
      "\u001b[34m\u001b[1mdetect: \u001b[0mweights=['best_noodle_drink.pt'], source=2.jpg, data=yolov5\\data\\coco128.yaml, imgsz=[640, 640], conf_thres=0.65, iou_thres=0.45, max_det=1000, device=, view_img=False, save_txt=False, save_conf=False, save_crop=True, nosave=False, classes=None, agnostic_nms=False, augment=False, visualize=False, update=False, project=../yolo, name=exp, exist_ok=False, line_thickness=3, hide_labels=False, hide_conf=False, half=False, dnn=False, vid_stride=1\n",
      "YOLOv5  v7.0-198-g34c2187 Python-3.9.7 torch-2.0.0+cpu CPU\n",
      "\n",
      "Fusing layers... \n",
      "Model summary: 157 layers, 7015519 parameters, 0 gradients, 15.8 GFLOPs\n",
      "image 1/1 C:\\Users\\sj990\\MachineLearning\\CAPSTONE_DESIGN_AI_Module\\yolo\\2.jpg: 384x640 1 noodle, 1 drink, 75.7ms\n",
      "Speed: 1.0ms pre-process, 75.7ms inference, 1.0ms NMS per image at shape (1, 3, 640, 640)\n",
      "Results saved to \u001b[1m..\\yolo\\exp\u001b[0m\n"
     ]
    }
   ],
   "source": [
    "!python yolov5/detect.py --weights best_noodle_drink.pt --img 640 --conf 0.65 --source 2.jpg --project  ../yolo --save-crop"
   ]
  },
  {
   "cell_type": "code",
   "execution_count": 39,
   "id": "5e74261c",
   "metadata": {},
   "outputs": [
    {
     "name": "stderr",
     "output_type": "stream",
     "text": [
      "\u001b[34m\u001b[1mdetect: \u001b[0mweights=['C:\\\\Users\\\\sj990\\\\MachineLearning\\\\CAPSTONE_DESIGN_AI_Module\\\\yolo\\\\best_v4().pt'], source=C:\\Users\\sj990\\MachineLearning\\CAPSTONE_DESIGN_AI_Module\\yolo\\first_image_folder - \\1.jpg, data=yolov5\\data\\coco128.yaml, imgsz=[640, 640], conf_thres=0.1, iou_thres=0.45, max_det=1000, device=, view_img=False, save_txt=False, save_conf=False, save_crop=True, nosave=False, classes=None, agnostic_nms=False, augment=False, visualize=False, update=False, project=../yolo, name=exp, exist_ok=False, line_thickness=3, hide_labels=False, hide_conf=False, half=False, dnn=False, vid_stride=1\n",
      "YOLOv5  v7.0-198-g34c2187 Python-3.9.7 torch-2.0.0+cpu CPU\n",
      "\n",
      "Fusing layers... \n",
      "Model summary: 157 layers, 7018216 parameters, 0 gradients, 15.8 GFLOPs\n",
      "image 1/1 C:\\Users\\sj990\\MachineLearning\\CAPSTONE_DESIGN_AI_Module\\yolo\\first_image_folder - \\1.jpg: 640x480 1 noodle, 1 snack, 107.6ms\n",
      "Speed: 0.0ms pre-process, 107.6ms inference, 1.0ms NMS per image at shape (1, 3, 640, 640)\n",
      "Results saved to \u001b[1m..\\yolo\\exp\u001b[0m\n"
     ]
    },
    {
     "name": "stdout",
     "output_type": "stream",
     "text": [
      "WARNING:tensorflow:No training configuration found in the save file, so the model was *not* compiled. Compile it manually.\n"
     ]
    },
    {
     "name": "stderr",
     "output_type": "stream",
     "text": [
      "WARNING:tensorflow:No training configuration found in the save file, so the model was *not* compiled. Compile it manually.\n"
     ]
    },
    {
     "name": "stdout",
     "output_type": "stream",
     "text": [
      "WARNING:tensorflow:5 out of the last 5 calls to <function Model.make_predict_function.<locals>.predict_function at 0x00000255BEFF65E0> triggered tf.function retracing. Tracing is expensive and the excessive number of tracings could be due to (1) creating @tf.function repeatedly in a loop, (2) passing tensors with different shapes, (3) passing Python objects instead of tensors. For (1), please define your @tf.function outside of the loop. For (2), @tf.function has reduce_retracing=True option that can avoid unnecessary retracing. For (3), please refer to https://www.tensorflow.org/guide/function#controlling_retracing and https://www.tensorflow.org/api_docs/python/tf/function for  more details.\n"
     ]
    },
    {
     "name": "stderr",
     "output_type": "stream",
     "text": [
      "WARNING:tensorflow:5 out of the last 5 calls to <function Model.make_predict_function.<locals>.predict_function at 0x00000255BEFF65E0> triggered tf.function retracing. Tracing is expensive and the excessive number of tracings could be due to (1) creating @tf.function repeatedly in a loop, (2) passing tensors with different shapes, (3) passing Python objects instead of tensors. For (1), please define your @tf.function outside of the loop. For (2), @tf.function has reduce_retracing=True option that can avoid unnecessary retracing. For (3), please refer to https://www.tensorflow.org/guide/function#controlling_retracing and https://www.tensorflow.org/api_docs/python/tf/function for  more details.\n"
     ]
    },
    {
     "name": "stdout",
     "output_type": "stream",
     "text": [
      "1/1 [==============================] - 0s 381ms/step\n",
      "[{'상품': '10111_오뚜기컵누들매콤37.8G', '정확도': 0.74}]\n"
     ]
    }
   ],
   "source": [
    "import tensorflow as tf\n",
    "import tensorflow_hub as hub\n",
    "import numpy as np\n",
    "import glob     \n",
    "import json\n",
    "import os\n",
    "import shutil\n",
    "\n",
    "#########################################################################\n",
    "#########################################################################\n",
    "# 수정해야되는 초기경로설정들 \n",
    "# 1. 어플에서 올라온 이미지폴더 경로\n",
    "application_image = r'C:\\Users\\sj990\\MachineLearning\\CAPSTONE_DESIGN_AI_Module\\yolo\\first_image_folder - 복사본'\n",
    "\n",
    "# 2. yolov5모델 경로 \n",
    "yolo_model = r'C:\\Users\\sj990\\MachineLearning\\CAPSTONE_DESIGN_AI_Module\\yolo\\best_v4(그나마젤좋음).pt'\n",
    "\n",
    "# 2. 면류 모델, 라벨경로\n",
    "noodle_model_path = r'C:\\Users\\sj990\\Desktop\\c_d\\model_label\\models\\model_noodle.h5'\n",
    "noodle_label_path = r'C:\\Users\\sj990\\Desktop\\c_d\\model_label\\labels\\model_noodle_label.txt'\n",
    "\n",
    "# 3. 음료 모델, 라벨경로\n",
    "drink_model_path = r'C:\\Users\\sj990\\Desktop\\c_d\\model_label\\models\\model_drink.h5'\n",
    "drink_label_path = r'C:\\Users\\sj990\\Desktop\\c_d\\model_label\\labels\\model_drink_label.txt'\n",
    "\n",
    "#4 과자 모델, 라벨경로\n",
    "snack_model_path = ''\n",
    "snack_label_path = ''\n",
    "\n",
    "\n",
    "#5 생활용품 모델, 라벨경로\n",
    "house_model_path = ''\n",
    "house_label_path = ''\n",
    "\n",
    "\n",
    "# 미분류 -> 지울거\n",
    "unclassified_model_path = r'C:\\Users\\sj990\\Desktop\\종설\\모델,라벨\\모델\\model_unclass.h5'\n",
    "unclassified_label_path = r'C:\\Users\\sj990\\Desktop\\종설\\모델,라벨\\라벨\\model_unclass_label.txt'\n",
    "\n",
    "#########################################################################\n",
    "########################################################################\n",
    "\n",
    "\n",
    "image_directory = application_image\n",
    "# jpg, png, jpeg 형식 (리스트형식으로 저장된다, 경로에는 파일한장만 존재하게)\n",
    "image_files = glob.glob(image_directory + '/*.png') + glob.glob(image_directory + '/*.jpg') + glob.glob(image_directory + '/*.jpeg')\n",
    "# 리스트중 첫번째것만 사용\n",
    "first_image = image_files[0]\n",
    "\n",
    "# 객체검출 실행                                                conf조절하면서 객체검출\n",
    "!python yolov5/detect.py --weights \"{yolo_model}\" --img 640 --conf 0.1 --source \"{first_image}\" --project ../yolo --save-crop\n",
    "\n",
    "# 검출경로\n",
    "crops_path = os.path.join('exp', 'crops')\n",
    "\n",
    "# 객체 폴더 있는지 탐지 (매번 추가) - 작업중, 생활용품은 3가지에서 검출안될때 (else)\n",
    "noodle_detect = os.path.exists(os.path.join(crops_path, 'noodle'))\n",
    "drink_detect = os.path.exists(os.path.join(crops_path, 'drink'))\n",
    "snack_detect = os.path.exists(os.path.join(crops_path, 'snack'))\n",
    "\n",
    "\n",
    "###############################################################\n",
    "#내가 하면서 추가\n",
    "if noodle_detect:\n",
    "    yolo_img = os.path.join(crops_path, 'noodle')\n",
    "    classification_label = 'noodle'\n",
    "    \n",
    "elif drink_detect:\n",
    "    yolo_img = os.path.join(crops_path, 'drink')\n",
    "    classification_label = 'drink'\n",
    "    \n",
    "elif snack_detect:\n",
    "    yolo_img = os.path.join(crops_path, 'snack')\n",
    "    classification_label = 'snack'\n",
    "    \n",
    "else:\n",
    "    yolo_img = application_image\n",
    "    classification_label = 'house'\n",
    "###############################################################\n",
    "    \n",
    "    \n",
    "yolo_image_directory = yolo_img\n",
    "# jpg, png, jpeg 형식 (리스트형식으로 저장된다, 경로에는 파일한장만 존재하게)\n",
    "yolo_image_files = glob.glob(yolo_image_directory + '/*.png') + glob.glob(yolo_image_directory + '/*.jpg') + glob.glob(yolo_image_directory + '/*.jpeg')\n",
    "# 리스트중 첫번째것만 사용\n",
    "yolo_image_path = yolo_image_files[0]\n",
    "\n",
    "\n",
    "#####################모델정의#####################\n",
    "class Model:\n",
    "    # 초기화\n",
    "    def __init__(self, image_path, model_path, class_labels_path):\n",
    "        self.image_path = image_path\n",
    "        self.model_path = model_path\n",
    "        self.class_labels_path = class_labels_path\n",
    "        \n",
    "    #예측 (전처리된이미지와 클래스라벨을 삽입)\n",
    "    def preds_model(self, img, class_labels):\n",
    "        model = tf.keras.models.load_model(self.model_path,  custom_objects={'KerasLayer': hub.KerasLayer})\n",
    "        preds = model.predict(img) \n",
    "        \n",
    "        # 결과값 상위 1개\n",
    "        top_preds_idx = preds[0].argsort()[ : : -1][ : 1]\n",
    "        top_preds_labels = [class_labels[idx] for idx in top_preds_idx]\n",
    "        top_preds_probs = preds[0][top_preds_idx]\n",
    "        return top_preds_labels, top_preds_probs\n",
    "    \n",
    "    #이미지전처리_1 (기본)\n",
    "    def img_pre_default(self):  \n",
    "        img = tf.keras.preprocessing.image.load_img(self.image_path, target_size=(256, 256))\n",
    "        img = tf.keras.preprocessing.image.img_to_array(img)\n",
    "        img = img.astype('float32') / 255.0\n",
    "        img = np.expand_dims(img, axis=0)\n",
    "        return img\n",
    "\n",
    "    #라벨불러오기\n",
    "    def class_label(self):\n",
    "        class_labels = []\n",
    "        with open(self.class_labels_path, 'r') as file:\n",
    "            for line in file:\n",
    "                class_labels.append(line.strip())\n",
    "        return class_labels\n",
    "    \n",
    "    #결과출력\n",
    "    def print_result(self, top_preds_labels, top_preds_probs):\n",
    "        results = []\n",
    "        #json형식 results\n",
    "        for label, prob in zip(top_preds_labels, top_preds_probs):\n",
    "            result = {\n",
    "                '상품': label,\n",
    "                '정확도': round(float(prob), 2)\n",
    "            }\n",
    "            results.append(result)\n",
    "        print(results)\n",
    "        return results\n",
    "#####################모델정의#####################\n",
    "\n",
    "\n",
    "image_path = yolo_image_path\n",
    "\n",
    "###########특징분류함수###########\n",
    "def save_result(classification_label, image_path, model_path, label_path):\n",
    "    model = Model(image_path, model_path, label_path)\n",
    "    \n",
    "    #예측\n",
    "    result_labels, result_probs = model.preds_model(model.img_pre_default(), model.class_label())\n",
    "    \n",
    "    #결과출력\n",
    "    result = model.print_result(result_labels, result_probs)\n",
    "    \n",
    "    # json파일 저장\n",
    "    with open('results.json', 'w', encoding='utf-8') as file:\n",
    "        json.dump(result, file, ensure_ascii=False)\n",
    "\n",
    "############특징분류############\n",
    "if classification_label == 'noodle':\n",
    "    save_result(\"noodle\", image_path, noodle_model_path, noodle_label_path)\n",
    "    \n",
    "elif classification_label == \"drink\":\n",
    "    save_result(\"drink\", image_path, drink_model_path, drink_label_path)\n",
    "    \n",
    "elif classification_label == \"snack\":\n",
    "    save_result(\"snack\", image_path, drink_model_path, drink_label_path) \n",
    "    \n",
    "elif classification_label == 'house':\n",
    "    print('아직생활용품은작업중')\n",
    "    #save_result(\"house\", image_path, drink_model_path, drink_label_path) \n",
    "    \n",
    "elif classification_label == \"Unclassified\":\n",
    "    save_result(\"Unclassified\", image_path, unclassified_model_path, unclassified_label_path)\n",
    "###############################      \n",
    "\n",
    "    \n",
    "# 작업끝난후 yolo 이미지 폴더 전체 삭제\n",
    "shutil.rmtree(\"exp\")\n",
    "\n",
    "# 작업끝난후 어플리케이션에서 올라온 이미지만 삭제\n",
    "for file in os.scandir(application_image):\n",
    "    os.remove(file.path)"
   ]
  },
  {
   "cell_type": "code",
   "execution_count": null,
   "id": "766e43d1",
   "metadata": {},
   "outputs": [],
   "source": []
  },
  {
   "cell_type": "code",
   "execution_count": null,
   "id": "3df88915",
   "metadata": {},
   "outputs": [],
   "source": []
  },
  {
   "cell_type": "code",
   "execution_count": 19,
   "id": "3fa60424",
   "metadata": {},
   "outputs": [
    {
     "name": "stderr",
     "output_type": "stream",
     "text": [
      "\u001b[34m\u001b[1mdetect: \u001b[0mweights=['best_v3_().pt'], source=C:\\Users\\sj990\\MachineLearning\\CAPSTONE_DESIGN_AI_Module\\yolo\\first_image_folder - \\1.jpg, data=yolov5\\data\\coco128.yaml, imgsz=[640, 640], conf_thres=0.65, iou_thres=0.45, max_det=1000, device=, view_img=False, save_txt=False, save_conf=False, save_crop=True, nosave=False, classes=None, agnostic_nms=False, augment=False, visualize=False, update=False, project=../yolo, name=exp, exist_ok=False, line_thickness=3, hide_labels=False, hide_conf=False, half=False, dnn=False, vid_stride=1\n",
      "YOLOv5  v7.0-198-g34c2187 Python-3.9.7 torch-2.0.0+cpu CPU\n",
      "\n",
      "Fusing layers... \n",
      "Model summary: 157 layers, 7018216 parameters, 0 gradients, 15.8 GFLOPs\n",
      "image 1/1 C:\\Users\\sj990\\MachineLearning\\CAPSTONE_DESIGN_AI_Module\\yolo\\first_image_folder - \\1.jpg: 640x480 (no detections), 102.7ms\n",
      "Speed: 0.0ms pre-process, 102.7ms inference, 0.0ms NMS per image at shape (1, 3, 640, 640)\n",
      "Results saved to \u001b[1m..\\yolo\\exp4\u001b[0m\n"
     ]
    }
   ],
   "source": [
    "!python yolov5/detect.py --weights best_v3_(정확도좀더좋음).pt --img 640 --conf 0.65 --source \"{first_image}\" --project ../yolo --save-crop"
   ]
  },
  {
   "cell_type": "code",
   "execution_count": 26,
   "id": "929f1006",
   "metadata": {},
   "outputs": [],
   "source": [
    "import shutil\n",
    "shutil.rmtree(\"exp2\")"
   ]
  },
  {
   "cell_type": "code",
   "execution_count": 21,
   "id": "bdc2d1d8",
   "metadata": {},
   "outputs": [
    {
     "data": {
      "text/plain": [
       "'C:\\\\Users\\\\sj990\\\\MachineLearning\\\\CAPSTONE_DESIGN_AI_Module\\\\yolo'"
      ]
     },
     "execution_count": 21,
     "metadata": {},
     "output_type": "execute_result"
    }
   ],
   "source": [
    "pwd"
   ]
  },
  {
   "cell_type": "code",
   "execution_count": 5,
   "id": "5af92846",
   "metadata": {},
   "outputs": [
    {
     "name": "stdout",
     "output_type": "stream",
     "text": [
      "작업 완료! 무작위로 선택된 폴더의 첫 번째 이미지 200개가 'image' 폴더에 저장되었습니다.\n"
     ]
    }
   ],
   "source": [
    "import os\n",
    "import random\n",
    "import shutil\n",
    "\n",
    "# 트레인 폴더와 새 이미지 폴더의 경로 설정\n",
    "train_folder = r'C:\\Users\\sj990\\Desktop\\상품 이미지\\Validation\\[원천]과자'\n",
    "image_folder = r'C:\\Users\\sj990\\Desktop\\상품 이미지\\Validation\\한장씩만'\n",
    "\n",
    "# 모든 폴더 목록을 가져옵니다.\n",
    "all_folders = os.listdir(train_folder)\n",
    "\n",
    "# 200개의 폴더를 무작위로 선택합니다.\n",
    "selected_folders = random.sample(all_folders, 200)\n",
    "\n",
    "# 이미지 폴더가 없으면 생성합니다.\n",
    "if not os.path.exists(image_folder):\n",
    "    os.makedirs(image_folder)\n",
    "\n",
    "# 선택된 폴더를 반복하며 각 폴더의 첫 번째 이미지를 이미지 폴더로 복사합니다.\n",
    "for folder in selected_folders:\n",
    "    folder_path = os.path.join(train_folder, folder)\n",
    "    if os.path.isdir(folder_path):\n",
    "        # 폴더 내 이미지 파일 목록을 가져옵니다.\n",
    "        image_files = [f for f in os.listdir(folder_path) if os.path.isfile(os.path.join(folder_path, f))]\n",
    "        if image_files:\n",
    "            # 이미지들을 정렬하여 첫 번째 이미지를 일관되게 선택합니다.\n",
    "            image_files.sort()\n",
    "            # 폴더의 첫 번째 이미지 경로를 가져옵니다.\n",
    "            first_image_path = os.path.join(folder_path, image_files[0])\n",
    "            # 첫 번째 이미지를 이미지 폴더로 복사합니다.\n",
    "            shutil.copy(first_image_path, os.path.join(image_folder, image_files[0]))\n",
    "\n",
    "print(\"작업 완료! 무작위로 선택된 폴더의 첫 번째 이미지 200개가 'image' 폴더에 저장되었습니다.\")"
   ]
  },
  {
   "cell_type": "code",
   "execution_count": 27,
   "id": "51ef32af",
   "metadata": {},
   "outputs": [
    {
     "name": "stdout",
     "output_type": "stream",
     "text": [
      "작업 완료! 순서대로 선택된 폴더의 첫 번째 이미지 400개가 'image' 폴더에 저장되었습니다.\n"
     ]
    }
   ],
   "source": [
    "import os\n",
    "import random\n",
    "import shutil\n",
    "\n",
    "#고정폴더로\n",
    "\n",
    "# 트레인 폴더와 새 이미지 폴더의 경로 설정\n",
    "train_folder = r'C:\\Users\\sj990\\Desktop\\상품 이미지\\Validation\\[라벨]음료'\n",
    "image_folder = r'C:\\Users\\sj990\\Desktop\\상품 이미지\\Validation\\음료400개'\n",
    "\n",
    "# 모든 폴더 목록을 가져옵니다.\n",
    "all_folders = os.listdir(train_folder)\n",
    "\n",
    "# Take the first 200 parent folders.\n",
    "selected_folders = all_folders[:400]\n",
    "\n",
    "# 이미지 폴더가 없으면 생성합니다.\n",
    "if not os.path.exists(image_folder):\n",
    "    os.makedirs(image_folder)\n",
    "\n",
    "# 선택된 폴더를 반복하며 각 폴더의 첫 번째 이미지를 이미지 폴더로 복사합니다.\n",
    "for folder in selected_folders:\n",
    "    folder_path = os.path.join(train_folder, folder)\n",
    "    if os.path.isdir(folder_path):\n",
    "        # 폴더 내 이미지 파일 목록을 가져옵니다.\n",
    "        image_files = [f for f in os.listdir(folder_path) if os.path.isfile(os.path.join(folder_path, f))]\n",
    "        if image_files:\n",
    "            # 이미지들을 정렬하여 첫 번째 이미지를 일관되게 선택합니다.\n",
    "            image_files.sort()\n",
    "            # 폴더의 첫 번째 이미지 경로를 가져옵니다.\n",
    "            first_image_path = os.path.join(folder_path, image_files[0])\n",
    "            # 첫 번째 이미지를 이미지 폴더로 복사합니다.\n",
    "            shutil.copy(first_image_path, os.path.join(image_folder, image_files[0]))\n",
    "\n",
    "print(\"작업 완료! 순서대로 선택된 폴더의 첫 번째 이미지 400개가 'image' 폴더에 저장되었습니다.\")"
   ]
  },
  {
   "cell_type": "code",
   "execution_count": null,
   "id": "d5d4a471",
   "metadata": {},
   "outputs": [],
   "source": []
  },
  {
   "cell_type": "code",
   "execution_count": 2,
   "id": "8f17e496",
   "metadata": {},
   "outputs": [
    {
     "name": "stdout",
     "output_type": "stream",
     "text": [
      "변경완료\n"
     ]
    }
   ],
   "source": [
    "#모든정수 숫자로 바꿔주는거\n",
    "# 0: noodle , 1: drink,  2: snack\n",
    "\n",
    "import os\n",
    "\n",
    "#############경로###################\n",
    "directory_path = r'C:\\Users\\sj990\\Desktop\\custom_data\\val_data\\labels'\n",
    "#############경로###################\n",
    "\n",
    "\n",
    "\n",
    "\n",
    "\n",
    "for filename in os.listdir(directory_path):\n",
    "    if filename.endswith('.txt'):\n",
    "        modified_lines = []\n",
    "\n",
    "        with open(os.path.join(directory_path, filename), 'r') as file:\n",
    "            # Read each line in the file\n",
    "            for line in file:\n",
    "                # Split the line into tokens\n",
    "                tokens = line.strip().split()\n",
    "                \n",
    "                #############변경할숫자###################\n",
    "                modified_tokens = [str(0) if token.isdigit() else token for token in tokens]\n",
    "                #############변경할숫자###################\n",
    "                \n",
    "                # Join the modified tokens back into a line\n",
    "                modified_line = ' '.join(modified_tokens)\n",
    "                \n",
    "                # Append the modified line to the list\n",
    "                modified_lines.append(modified_line)\n",
    "\n",
    "        # Open the file for writing and overwrite its content\n",
    "        with open(os.path.join(directory_path, filename), 'w') as file:\n",
    "            # Write the modified lines back to the file\n",
    "            for modified_line in modified_lines:\n",
    "                file.write(modified_line + '\\n')\n",
    "\n",
    "print(\"변경완료\")"
   ]
  },
  {
   "cell_type": "code",
   "execution_count": null,
   "id": "71cf64a6",
   "metadata": {},
   "outputs": [],
   "source": []
  },
  {
   "cell_type": "code",
   "execution_count": null,
   "id": "2ac35b11",
   "metadata": {},
   "outputs": [],
   "source": []
  },
  {
   "cell_type": "code",
   "execution_count": 15,
   "id": "9e0d823b",
   "metadata": {
    "scrolled": true
   },
   "outputs": [
    {
     "name": "stdout",
     "output_type": "stream",
     "text": [
      "1/1 [==============================] - 0s 385ms/step\n",
      "[{'상품': '26066_유한킴벌리크리넥스미니티슈230매(라이언)', '정확도': 0.03}]\n"
     ]
    }
   ],
   "source": [
    "import tensorflow as tf\n",
    "import tensorflow_hub as hub\n",
    "import numpy as np\n",
    "import glob     \n",
    "import json\n",
    "import os\n",
    "import PIL\n",
    "from PIL import Image\n",
    "\n",
    "\n",
    "# 1. 모델 불러오기\n",
    "model_path = r'C:\\Users\\sj990\\Desktop\\할거\\my_model_sanghwal_0.87.h5'\n",
    "model = tf.keras.models.load_model(model_path, custom_objects={'KerasLayer': hub.KerasLayer})\n",
    "\n",
    "\n",
    "# 경로설정\n",
    "image_directory = r'C:\\Users\\sj990\\Desktop\\할거'\n",
    "\n",
    "# jpg, png, jpeg 형식 (리스트형식으로 저장된다, 경로에는 파일한장만 존재하게)\n",
    "image_files = glob.glob(image_directory + '\\*.png') + glob.glob(image_directory + '\\*.jpg') + glob.glob(image_directory + '\\*.jpeg')\n",
    "\n",
    "# 리스트중 첫번째것만 사용\n",
    "image_path = image_files[0]\n",
    "\n",
    "\n",
    "# 이미지전처리, 사이즈조정만\n",
    "img = tf.keras.preprocessing.image.load_img(image_path, target_size=(256, 256))\n",
    "img = tf.keras.preprocessing.image.img_to_array(img)\n",
    "img = img.astype('float32') / 255.0\n",
    "img = np.expand_dims(img, axis=0)\n",
    "\n",
    "# 이미지 예측\n",
    "preds = model.predict(img)\n",
    "\n",
    "class_labels = []\n",
    "\n",
    "# 3. txt파일 불러오기\n",
    "with open(r'C:\\Users\\sj990\\Desktop\\할거\\생활용품라벨.txt', 'r', encoding='utf-8') as file:\n",
    "    # Rest of your code\n",
    "    for line in file:\n",
    "        class_labels.append(line.strip())\n",
    "\n",
    "# 결과값 상위 1개\n",
    "top_preds_idx = preds[0].argsort()[ : : -1][ : 1]\n",
    "top_preds_labels = [class_labels[idx] for idx in top_preds_idx]\n",
    "top_preds_probs = preds[0][top_preds_idx]\n",
    "\n",
    "results = []\n",
    "\n",
    "#json형식 results\n",
    "for label, prob in zip(top_preds_labels, top_preds_probs):\n",
    "    result = {\n",
    "        '상품': label,\n",
    "        '정확도': round(float(prob), 2)\n",
    "    }\n",
    "    results.append(result)\n",
    "        \n",
    "\n",
    "#출력예시\n",
    "print(results)\n"
   ]
  },
  {
   "cell_type": "code",
   "execution_count": 4,
   "id": "e3c677b5",
   "metadata": {},
   "outputs": [
    {
     "name": "stdout",
     "output_type": "stream",
     "text": [
      "이미지 파일과 라벨 파일 이름이 모두 일치합니다.\n"
     ]
    }
   ],
   "source": [
    "import os\n",
    "\n",
    "# 디렉토리 경로 설정\n",
    "images_dir = \"C:\\\\Users\\\\sj990\\\\Desktop\\\\yolo하던거\\\\custom_data_v5\\\\val_data\\\\images\"\n",
    "labels_dir = \"C:\\\\Users\\\\sj990\\\\Desktop\\\\yolo하던거\\\\custom_data_v5\\\\val_data\\\\labels\"\n",
    "\n",
    "# 이미지 디렉토리와 라벨 디렉토리 내의 파일 이름 가져오기\n",
    "image_files = os.listdir(images_dir)\n",
    "label_files = os.listdir(labels_dir)\n",
    "\n",
    "# 파일 이름이 다른 경우 확인\n",
    "different_files = []\n",
    "\n",
    "for image_file in image_files:\n",
    "    # 이미지 파일 이름과 확장자에서 확장자 부분 제거\n",
    "    image_name, _ = os.path.splitext(image_file)\n",
    "    \n",
    "    # 해당 이미지 파일과 동일한 이름의 라벨 파일 존재 여부 확인\n",
    "    if f\"{image_name}.txt\" not in label_files:\n",
    "        different_files.append(image_file)\n",
    "\n",
    "# 결과 출력\n",
    "if len(different_files) > 0:\n",
    "    print(\"다음 이미지 파일들에 대응하는 라벨 파일이 없습니다:\")\n",
    "    for file_name in different_files:\n",
    "        print(file_name)\n",
    "else:\n",
    "    print(\"이미지 파일과 라벨 파일 이름이 모두 일치합니다.\")\n"
   ]
  },
  {
   "cell_type": "code",
   "execution_count": null,
   "id": "afac6b4c",
   "metadata": {},
   "outputs": [],
   "source": []
  }
 ],
 "metadata": {
  "kernelspec": {
   "display_name": "python39",
   "language": "python",
   "name": "python39"
  },
  "language_info": {
   "codemirror_mode": {
    "name": "ipython",
    "version": 3
   },
   "file_extension": ".py",
   "mimetype": "text/x-python",
   "name": "python",
   "nbconvert_exporter": "python",
   "pygments_lexer": "ipython3",
   "version": "3.9.16"
  }
 },
 "nbformat": 4,
 "nbformat_minor": 5
}
