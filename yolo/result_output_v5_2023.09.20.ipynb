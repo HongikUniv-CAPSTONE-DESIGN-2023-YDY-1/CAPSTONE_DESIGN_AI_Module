{
 "cells": [
  {
   "cell_type": "code",
   "execution_count": 14,
   "id": "21780d6a",
   "metadata": {},
   "outputs": [
    {
     "name": "stdout",
     "output_type": "stream",
     "text": [
      "1/1 [==============================] - 0s 382ms/step\n",
      "[{'상품': '튀김우동_컵_110', '정확도': 1.0}]\n"
     ]
    },
    {
     "data": {
      "text/plain": [
       "' 실사용시 주석제거바람\\n# 작업끝난후 yolo 이미지 폴더 전체 삭제\\nshutil.rmtree(\"exp\")\\n\\n# 작업끝난후 어플리케이션에서 올라온 이미지만 삭제\\nfor file in os.scandir(application_image):\\n    os.remove(file.path)\\n'"
      ]
     },
     "execution_count": 14,
     "metadata": {},
     "output_type": "execute_result"
    }
   ],
   "source": [
    "import tensorflow as tf\n",
    "import tensorflow_hub as hub\n",
    "import numpy as np\n",
    "import glob     \n",
    "import json\n",
    "import os\n",
    "import shutil\n",
    "import subprocess\n",
    "\n",
    "#########################################################################\n",
    "#########################################################################\n",
    "# 수정해야되는 초기경로설정들 \n",
    "# 1. 어플에서 올라온 이미지폴더 경로\n",
    "application_image = r'C:\\Users\\sj990\\MachineLearning\\CAPSTONE_DESIGN_AI_Module\\yolo\\first_image_folder - 복사본'\n",
    "\n",
    "# 2. yolov5모델 경로 \n",
    "yolo_model = r'C:\\Users\\sj990\\Desktop\\1\\best_9.21.pt'\n",
    "\n",
    "# 2. 면류 모델, 라벨경로\n",
    "objects_model_path = r'C:\\Users\\sj990\\Desktop\\1\\my_model_all_v2.h5'\n",
    "objects_label_path = r'C:\\Users\\sj990\\Desktop\\1\\my_model_all_label.txt'\n",
    "\n",
    "#########################################################################\n",
    "########################################################################\n",
    "\n",
    "image_directory = application_image\n",
    "# jpg, png, jpeg 형식 (리스트형식으로 저장된다, 경로에는 파일한장만 존재하게)\n",
    "image_files = glob.glob(image_directory + '/*.png') + glob.glob(image_directory + '/*.jpg') + glob.glob(image_directory + '/*.jpeg')\n",
    "# 리스트중 첫번째것만 사용\n",
    "first_image = image_files[0]\n",
    "\n",
    "# 객체검출 실행                                                conf조절하면서 객체검출\n",
    "#!python yolov5/detect.py --weights \"{yolo_model}\" --img 640 --conf 0.5 --source \"{first_image}\" --project ../yolo --save-crop\n",
    "command = f'python yolov5/detect.py --weights \"{yolo_model}\" --img 640 --conf 0.4 --source \"{first_image}\" --project ../yolo --save-crop'\n",
    "subprocess.run(command, shell=True)\n",
    "\n",
    "\n",
    "\n",
    "# 검출경로\n",
    "crops_path = os.path.join('exp', 'crops')\n",
    "\n",
    "# 객체 폴더 있는지 탐지\n",
    "objects_path = os.path.join(crops_path, 'objects')\n",
    "\n",
    "\n",
    "if os.path.exists(objects_path):\n",
    "    object_files = os.listdir(objects_path)\n",
    "    \n",
    "    # crop이미지가 한장일때만 crop이미지로 사용\n",
    "    if len(object_files) > 1:\n",
    "        yolo_img = application_image\n",
    "        \n",
    "    else:\n",
    "        yolo_img = os.path.join(crops_path, 'objects')\n",
    "        \n",
    "else:\n",
    "    yolo_img = application_image\n",
    "\n",
    "###############################################################\n",
    "    \n",
    "yolo_image_directory = yolo_img\n",
    "# jpg, png, jpeg 형식 (리스트형식으로 저장된다, 경로에는 파일한장만 존재하게)\n",
    "yolo_image_files = glob.glob(yolo_image_directory + '/*.png') + glob.glob(yolo_image_directory + '/*.jpg') + glob.glob(yolo_image_directory + '/*.jpeg')\n",
    "# 리스트중 첫번째것만 사용\n",
    "yolo_image_path = yolo_image_files[0]\n",
    "\n",
    "#####################모델정의#####################\n",
    "class Model:\n",
    "    # 초기화\n",
    "    def __init__(self, image_path, model_path, class_labels_path):\n",
    "        self.image_path = image_path\n",
    "        self.model_path = model_path\n",
    "        self.class_labels_path = class_labels_path\n",
    "        \n",
    "    #예측 (전처리된이미지와 클래스라벨을 삽입)\n",
    "    def preds_model(self, img, class_labels):\n",
    "        model = tf.keras.models.load_model(self.model_path,  custom_objects={'KerasLayer': hub.KerasLayer})\n",
    "        preds = model.predict(img) \n",
    "        \n",
    "        # 결과값 상위 1개\n",
    "        top_preds_idx = preds[0].argsort()[ : : -1][ : 1]\n",
    "        top_preds_labels = [class_labels[idx] for idx in top_preds_idx]\n",
    "        top_preds_probs = preds[0][top_preds_idx]\n",
    "        return top_preds_labels, top_preds_probs\n",
    "    \n",
    "    #이미지전처리_1 (기본)\n",
    "    def img_pre_default(self):  \n",
    "        img = tf.keras.preprocessing.image.load_img(self.image_path, target_size=(256, 256))\n",
    "        img = tf.keras.preprocessing.image.img_to_array(img)\n",
    "        img = img.astype('float32') / 255.0\n",
    "        img = np.expand_dims(img, axis=0)\n",
    "        return img\n",
    "\n",
    "    #라벨불러오기\n",
    "    def class_label(self):\n",
    "        class_labels = []\n",
    "        with open(self.class_labels_path, 'r') as file:\n",
    "            for line in file:\n",
    "                class_labels.append(line.strip())\n",
    "        return class_labels\n",
    "    \n",
    "    #결과출력\n",
    "    def print_result(self, top_preds_labels, top_preds_probs):\n",
    "        results = []\n",
    "        #json형식 results\n",
    "        for label, prob in zip(top_preds_labels, top_preds_probs):\n",
    "            result = {\n",
    "                '상품': label,\n",
    "                '정확도': round(float(prob), 2)\n",
    "            }\n",
    "            results.append(result)\n",
    "        print(results)\n",
    "        return results\n",
    "#####################모델정의#####################\n",
    "\n",
    "###########특징분류함수###########\n",
    "def save_result(image_path, model_path, label_path):\n",
    "    model = Model(image_path, model_path, label_path)\n",
    "    \n",
    "    #예측\n",
    "    result_labels, result_probs = model.preds_model(model.img_pre_default(), model.class_label())\n",
    "    \n",
    "    #결과출력\n",
    "    result = model.print_result(result_labels, result_probs)\n",
    "    \n",
    "    # json파일 저장\n",
    "    with open('results.json', 'w', encoding='utf-8') as file:\n",
    "        json.dump(result, file, ensure_ascii=False)\n",
    "\n",
    "        \n",
    "############특징분류############\n",
    "image_path = yolo_image_path #yolo탐지된건 crop된이미지가, 아닐시에는 원본이미지가 들어간다.\n",
    "save_result(image_path, objects_model_path, objects_label_path)\n",
    "###############################      \n",
    "\n",
    "\n",
    "\n",
    "\"\"\" 실사용시 주석제거바람\n",
    "# 작업끝난후 yolo 이미지 폴더 전체 삭제\n",
    "shutil.rmtree(\"exp\")\n",
    "\n",
    "# 작업끝난후 어플리케이션에서 올라온 이미지만 삭제\n",
    "for file in os.scandir(application_image):\n",
    "    os.remove(file.path)\n",
    "\"\"\""
   ]
  },
  {
   "cell_type": "code",
   "execution_count": 1,
   "id": "36af3419",
   "metadata": {},
   "outputs": [],
   "source": [
    "import tensorflow as tf\n",
    "import tensorflow_hub as hub\n",
    "import numpy as np\n",
    "import glob     \n",
    "import json\n",
    "import os\n",
    "import shutil\n",
    "import subprocess\n",
    "\n"
   ]
  },
  {
   "cell_type": "code",
   "execution_count": 2,
   "id": "d2d13e30",
   "metadata": {},
   "outputs": [
    {
     "data": {
      "text/plain": [
       "'0.14.0'"
      ]
     },
     "execution_count": 2,
     "metadata": {},
     "output_type": "execute_result"
    }
   ],
   "source": [
    "hub.__version__"
   ]
  },
  {
   "cell_type": "code",
   "execution_count": 4,
   "id": "4ab92a69",
   "metadata": {},
   "outputs": [
    {
     "name": "stdout",
     "output_type": "stream",
     "text": [
      "10.0.0\n"
     ]
    }
   ],
   "source": [
    "import PIL\n",
    "print(PIL.__version__)"
   ]
  },
  {
   "cell_type": "code",
   "execution_count": null,
   "id": "c711cd59",
   "metadata": {},
   "outputs": [],
   "source": []
  }
 ],
 "metadata": {
  "kernelspec": {
   "display_name": "python39",
   "language": "python",
   "name": "python39"
  },
  "language_info": {
   "codemirror_mode": {
    "name": "ipython",
    "version": 3
   },
   "file_extension": ".py",
   "mimetype": "text/x-python",
   "name": "python",
   "nbconvert_exporter": "python",
   "pygments_lexer": "ipython3",
   "version": "3.9.16"
  }
 },
 "nbformat": 4,
 "nbformat_minor": 5
}
