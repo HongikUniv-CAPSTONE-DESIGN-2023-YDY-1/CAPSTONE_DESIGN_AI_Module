{
 "cells": [
  {
   "cell_type": "code",
   "execution_count": 8,
   "id": "a0f5d983",
   "metadata": {},
   "outputs": [
    {
     "data": {
      "text/plain": [
       "[name: \"/device:CPU:0\"\n",
       " device_type: \"CPU\"\n",
       " memory_limit: 268435456\n",
       " locality {\n",
       " }\n",
       " incarnation: 14958323829355149910,\n",
       " name: \"/device:GPU:0\"\n",
       " device_type: \"GPU\"\n",
       " memory_limit: 10081009664\n",
       " locality {\n",
       "   bus_id: 1\n",
       "   links {\n",
       "   }\n",
       " }\n",
       " incarnation: 16443926071426643424\n",
       " physical_device_desc: \"device: 0, name: NVIDIA GeForce RTX 3060, pci bus id: 0000:01:00.0, compute capability: 8.6\"]"
      ]
     },
     "execution_count": 8,
     "metadata": {},
     "output_type": "execute_result"
    }
   ],
   "source": [
    "from tensorflow.python.client import device_lib\n",
    "device_lib.list_local_devices()"
   ]
  },
  {
   "cell_type": "code",
   "execution_count": 1,
   "id": "525f85e7",
   "metadata": {
    "scrolled": true
   },
   "outputs": [
    {
     "name": "stdout",
     "output_type": "stream",
     "text": [
      "INFO:tensorflow:Using MirroredStrategy with devices ('/job:localhost/replica:0/task:0/device:GPU:0',)\n",
      "Found 23370 images belonging to 205 classes.\n"
     ]
    },
    {
     "name": "stderr",
     "output_type": "stream",
     "text": [
      "C:\\Users\\sj990\\AppData\\Local\\Temp\\ipykernel_5156\\1329893549.py:66: VisibleDeprecationWarning: Creating an ndarray from ragged nested sequences (which is a list-or-tuple of lists-or-tuples-or ndarrays with different lengths or shapes) is deprecated. If you meant to do this, you must specify 'dtype=object' when creating the ndarray.\n",
      "  train_labels = np.array(train_labels)\n"
     ]
    },
    {
     "name": "stdout",
     "output_type": "stream",
     "text": [
      "Found 3075 images belonging to 205 classes.\n"
     ]
    },
    {
     "name": "stderr",
     "output_type": "stream",
     "text": [
      "C:\\Users\\sj990\\AppData\\Local\\Temp\\ipykernel_5156\\1329893549.py:90: VisibleDeprecationWarning: Creating an ndarray from ragged nested sequences (which is a list-or-tuple of lists-or-tuples-or ndarrays with different lengths or shapes) is deprecated. If you meant to do this, you must specify 'dtype=object' when creating the ndarray.\n",
      "  val_labels = np.array(val_labels)\n"
     ]
    },
    {
     "name": "stdout",
     "output_type": "stream",
     "text": [
      "INFO:tensorflow:Reduce to /job:localhost/replica:0/task:0/device:CPU:0 then broadcast to ('/job:localhost/replica:0/task:0/device:CPU:0',).\n",
      "INFO:tensorflow:Reduce to /job:localhost/replica:0/task:0/device:CPU:0 then broadcast to ('/job:localhost/replica:0/task:0/device:CPU:0',).\n",
      "INFO:tensorflow:Reduce to /job:localhost/replica:0/task:0/device:CPU:0 then broadcast to ('/job:localhost/replica:0/task:0/device:CPU:0',).\n",
      "INFO:tensorflow:Reduce to /job:localhost/replica:0/task:0/device:CPU:0 then broadcast to ('/job:localhost/replica:0/task:0/device:CPU:0',).\n"
     ]
    },
    {
     "name": "stderr",
     "output_type": "stream",
     "text": [
      "C:\\Users\\sj990\\anaconda3\\envs\\tf_gpu\\lib\\site-packages\\keras\\optimizer_v2\\optimizer_v2.py:355: UserWarning: The `lr` argument is deprecated, use `learning_rate` instead.\n",
      "  warnings.warn(\n"
     ]
    },
    {
     "name": "stdout",
     "output_type": "stream",
     "text": [
      "WARNING:tensorflow:Using MirroredStrategy eagerly has significant overhead currently. We will be working on improving this in the future, but for now please wrap `call_for_each_replica` or `experimental_run` or `run` inside a tf.function to get the best performance.\n",
      "Epoch 1/50\n"
     ]
    },
    {
     "name": "stderr",
     "output_type": "stream",
     "text": [
      "C:\\Users\\sj990\\anaconda3\\envs\\tf_gpu\\lib\\site-packages\\keras\\backend.py:4846: UserWarning: \"`categorical_crossentropy` received `from_logits=True`, but the `output` argument was produced by a sigmoid or softmax activation and thus does not represent logits. Was this intended?\"\n",
      "  warnings.warn(\n"
     ]
    },
    {
     "name": "stdout",
     "output_type": "stream",
     "text": [
      "INFO:tensorflow:Reduce to /job:localhost/replica:0/task:0/device:CPU:0 then broadcast to ('/job:localhost/replica:0/task:0/device:CPU:0',).\n",
      "INFO:tensorflow:Reduce to /job:localhost/replica:0/task:0/device:CPU:0 then broadcast to ('/job:localhost/replica:0/task:0/device:CPU:0',).\n",
      "INFO:tensorflow:Reduce to /job:localhost/replica:0/task:0/device:CPU:0 then broadcast to ('/job:localhost/replica:0/task:0/device:CPU:0',).\n",
      "INFO:tensorflow:Reduce to /job:localhost/replica:0/task:0/device:CPU:0 then broadcast to ('/job:localhost/replica:0/task:0/device:CPU:0',).\n",
      "INFO:tensorflow:Reduce to /job:localhost/replica:0/task:0/device:CPU:0 then broadcast to ('/job:localhost/replica:0/task:0/device:CPU:0',).\n",
      "INFO:tensorflow:Reduce to /job:localhost/replica:0/task:0/device:CPU:0 then broadcast to ('/job:localhost/replica:0/task:0/device:CPU:0',).\n",
      "195/195 [==============================] - 2679s 14s/step - loss: 3.6878 - accuracy: 0.2529 - val_loss: 1.8178 - val_accuracy: 0.7154\n",
      "Epoch 2/50\n",
      "195/195 [==============================] - 2253s 12s/step - loss: 1.6811 - accuracy: 0.6172 - val_loss: 0.8887 - val_accuracy: 0.8696\n",
      "Epoch 3/50\n",
      "195/195 [==============================] - 2224s 11s/step - loss: 1.0674 - accuracy: 0.7597 - val_loss: 0.6158 - val_accuracy: 0.9063\n",
      "Epoch 4/50\n",
      "195/195 [==============================] - 2204s 11s/step - loss: 0.8146 - accuracy: 0.8220 - val_loss: 0.5079 - val_accuracy: 0.9278\n",
      "Epoch 5/50\n",
      "195/195 [==============================] - 2296s 12s/step - loss: 0.6912 - accuracy: 0.8576 - val_loss: 0.4458 - val_accuracy: 0.9441\n",
      "Epoch 6/50\n",
      "195/195 [==============================] - 2274s 12s/step - loss: 0.6214 - accuracy: 0.8796 - val_loss: 0.4336 - val_accuracy: 0.9418\n",
      "Epoch 7/50\n",
      "195/195 [==============================] - 2287s 12s/step - loss: 0.5757 - accuracy: 0.8956 - val_loss: 0.4017 - val_accuracy: 0.9564\n",
      "Epoch 8/50\n",
      "195/195 [==============================] - 2225s 11s/step - loss: 0.5480 - accuracy: 0.9047 - val_loss: 0.3936 - val_accuracy: 0.9541\n",
      "Epoch 9/50\n",
      "195/195 [==============================] - 2224s 11s/step - loss: 0.5296 - accuracy: 0.9137 - val_loss: 0.3887 - val_accuracy: 0.9607\n",
      "Epoch 10/50\n",
      "195/195 [==============================] - 2296s 12s/step - loss: 0.5105 - accuracy: 0.9212 - val_loss: 0.3812 - val_accuracy: 0.9600\n",
      "Epoch 11/50\n",
      "195/195 [==============================] - 2260s 12s/step - loss: 0.5000 - accuracy: 0.9252 - val_loss: 0.3737 - val_accuracy: 0.9646\n",
      "Epoch 12/50\n",
      "195/195 [==============================] - 1734s 9s/step - loss: 0.4858 - accuracy: 0.9288 - val_loss: 0.3585 - val_accuracy: 0.9737\n",
      "Epoch 13/50\n",
      "195/195 [==============================] - 1756s 9s/step - loss: 0.4873 - accuracy: 0.9306 - val_loss: 0.3644 - val_accuracy: 0.9675\n",
      "Epoch 14/50\n",
      "195/195 [==============================] - 1726s 9s/step - loss: 0.4804 - accuracy: 0.9327 - val_loss: 0.3671 - val_accuracy: 0.9672\n",
      "Epoch 15/50\n",
      "195/195 [==============================] - 1856s 10s/step - loss: 0.4729 - accuracy: 0.9380 - val_loss: 0.3649 - val_accuracy: 0.9711\n",
      "Epoch 16/50\n",
      "195/195 [==============================] - 1640s 8s/step - loss: 0.4707 - accuracy: 0.9397 - val_loss: 0.3693 - val_accuracy: 0.9691\n",
      "Epoch 17/50\n",
      "195/195 [==============================] - 1610s 8s/step - loss: 0.4667 - accuracy: 0.9410 - val_loss: 0.3696 - val_accuracy: 0.9672\n",
      "Epoch 18/50\n",
      "195/195 [==============================] - 1605s 8s/step - loss: 0.4679 - accuracy: 0.9409 - val_loss: 0.3640 - val_accuracy: 0.9711\n",
      "Epoch 19/50\n",
      "195/195 [==============================] - 1616s 8s/step - loss: 0.4683 - accuracy: 0.9430 - val_loss: 0.3673 - val_accuracy: 0.9717\n",
      "Epoch 20/50\n",
      "195/195 [==============================] - 1605s 8s/step - loss: 0.4652 - accuracy: 0.9457 - val_loss: 0.3646 - val_accuracy: 0.9746\n",
      "Epoch 21/50\n",
      "195/195 [==============================] - 1607s 8s/step - loss: 0.4692 - accuracy: 0.9452 - val_loss: 0.3709 - val_accuracy: 0.9753\n",
      "Epoch 22/50\n",
      "195/195 [==============================] - 1623s 8s/step - loss: 0.4712 - accuracy: 0.9448 - val_loss: 0.3811 - val_accuracy: 0.9724\n",
      "Epoch 23/50\n",
      "195/195 [==============================] - 1633s 8s/step - loss: 0.4672 - accuracy: 0.9481 - val_loss: 0.3862 - val_accuracy: 0.9720\n",
      "Epoch 24/50\n",
      "195/195 [==============================] - 1637s 8s/step - loss: 0.4739 - accuracy: 0.9481 - val_loss: 0.3834 - val_accuracy: 0.9711\n",
      "Epoch 25/50\n",
      "195/195 [==============================] - 1637s 8s/step - loss: 0.4733 - accuracy: 0.9488 - val_loss: 0.3892 - val_accuracy: 0.9704\n",
      "Epoch 26/50\n",
      "195/195 [==============================] - 1634s 8s/step - loss: 0.4756 - accuracy: 0.9491 - val_loss: 0.3822 - val_accuracy: 0.9763\n",
      "Epoch 27/50\n",
      "195/195 [==============================] - 1644s 8s/step - loss: 0.4763 - accuracy: 0.9523 - val_loss: 0.3839 - val_accuracy: 0.9798\n",
      "Epoch 28/50\n",
      "195/195 [==============================] - 1636s 8s/step - loss: 0.4776 - accuracy: 0.9518 - val_loss: 0.3922 - val_accuracy: 0.9766\n",
      "Epoch 29/50\n",
      "195/195 [==============================] - 1635s 8s/step - loss: 0.4816 - accuracy: 0.9507 - val_loss: 0.3930 - val_accuracy: 0.9756\n",
      "Epoch 30/50\n",
      "195/195 [==============================] - 1637s 8s/step - loss: 0.4868 - accuracy: 0.9513 - val_loss: 0.3965 - val_accuracy: 0.9782\n",
      "Epoch 31/50\n",
      "195/195 [==============================] - 1638s 8s/step - loss: 0.4838 - accuracy: 0.9547 - val_loss: 0.4012 - val_accuracy: 0.9763\n",
      "Epoch 32/50\n",
      "195/195 [==============================] - 1635s 8s/step - loss: 0.4895 - accuracy: 0.9538 - val_loss: 0.3999 - val_accuracy: 0.9818\n",
      "Epoch 33/50\n",
      "195/195 [==============================] - 1638s 8s/step - loss: 0.4984 - accuracy: 0.9516 - val_loss: 0.4041 - val_accuracy: 0.9798\n",
      "Epoch 34/50\n",
      "195/195 [==============================] - 1638s 8s/step - loss: 0.4948 - accuracy: 0.9553 - val_loss: 0.4141 - val_accuracy: 0.9802\n",
      "Epoch 35/50\n",
      "195/195 [==============================] - 1639s 8s/step - loss: 0.5001 - accuracy: 0.9557 - val_loss: 0.4166 - val_accuracy: 0.9776\n",
      "Epoch 36/50\n",
      "195/195 [==============================] - 1690s 9s/step - loss: 0.5069 - accuracy: 0.9531 - val_loss: 0.4213 - val_accuracy: 0.9772\n",
      "Epoch 37/50\n",
      "195/195 [==============================] - 1648s 8s/step - loss: 0.5048 - accuracy: 0.9574 - val_loss: 0.4240 - val_accuracy: 0.9805\n",
      "Epoch 38/50\n",
      "195/195 [==============================] - 1637s 8s/step - loss: 0.5109 - accuracy: 0.9564 - val_loss: 0.4287 - val_accuracy: 0.9805\n",
      "Epoch 39/50\n",
      "195/195 [==============================] - 1637s 8s/step - loss: 0.5140 - accuracy: 0.9555 - val_loss: 0.4285 - val_accuracy: 0.9818\n",
      "Epoch 40/50\n",
      "195/195 [==============================] - 1706s 9s/step - loss: 0.5223 - accuracy: 0.9550 - val_loss: 0.4355 - val_accuracy: 0.9789\n",
      "Epoch 41/50\n",
      "195/195 [==============================] - 1655s 8s/step - loss: 0.5246 - accuracy: 0.9563 - val_loss: 0.4392 - val_accuracy: 0.9792\n",
      "Epoch 42/50\n",
      "195/195 [==============================] - 1638s 8s/step - loss: 0.5228 - accuracy: 0.9574 - val_loss: 0.4468 - val_accuracy: 0.9769\n",
      "Epoch 43/50\n",
      "195/195 [==============================] - 1638s 8s/step - loss: 0.5302 - accuracy: 0.9591 - val_loss: 0.4472 - val_accuracy: 0.9795\n",
      "Epoch 44/50\n",
      "195/195 [==============================] - 1636s 8s/step - loss: 0.5333 - accuracy: 0.9571 - val_loss: 0.4517 - val_accuracy: 0.9802\n",
      "Epoch 45/50\n",
      "195/195 [==============================] - 1638s 8s/step - loss: 0.5355 - accuracy: 0.9584 - val_loss: 0.4615 - val_accuracy: 0.9785\n",
      "Epoch 46/50\n",
      "195/195 [==============================] - 1638s 8s/step - loss: 0.5445 - accuracy: 0.9566 - val_loss: 0.4698 - val_accuracy: 0.9750\n",
      "Epoch 47/50\n",
      "195/195 [==============================] - 1637s 8s/step - loss: 0.5414 - accuracy: 0.9593 - val_loss: 0.4602 - val_accuracy: 0.9831\n",
      "Epoch 48/50\n",
      "195/195 [==============================] - 1708s 9s/step - loss: 0.5469 - accuracy: 0.9604 - val_loss: 0.4734 - val_accuracy: 0.9785\n",
      "Epoch 49/50\n",
      "195/195 [==============================] - 2424s 12s/step - loss: 0.5533 - accuracy: 0.9581 - val_loss: 0.4782 - val_accuracy: 0.9772\n",
      "Epoch 50/50\n",
      "195/195 [==============================] - 2776s 14s/step - loss: 0.5580 - accuracy: 0.9582 - val_loss: 0.4813 - val_accuracy: 0.9785\n"
     ]
    }
   ],
   "source": [
    "import tensorflow as tf\n",
    "import tensorflow_hub as hub\n",
    "from tensorflow.keras.models import Sequential\n",
    "from tensorflow.keras.layers import Dropout, Dense\n",
    "from tensorflow.keras.regularizers import l2\n",
    "import os\n",
    "import numpy as np\n",
    "import xml.etree.ElementTree as ET\n",
    "import functools\n",
    "from tensorflow.keras.optimizers import RMSprop\n",
    "\n",
    "\n",
    "strategy = tf.distribute.MirroredStrategy()\n",
    "\n",
    "# 라벨\n",
    "def read_xml_file(xml_file_path):\n",
    "    tree = ET.parse(xml_file_path)\n",
    "    root = tree.getroot()\n",
    "    labels = []\n",
    "    for obj in root.findall('object'):\n",
    "        label = obj.find('name').text\n",
    "        labels.append(label)\n",
    "    return labels\n",
    "\n",
    "def read_xml_and_add_labels(image_path, label_directory):\n",
    "    image_name = os.path.basename(image_path)\n",
    "    class_name = os.path.dirname(image_path).split(os.path.sep)[-1]\n",
    "    xml_file_path = os.path.join(label_directory, class_name, image_name[:-4] + '.xml')\n",
    "    labels = read_xml_file(xml_file_path)\n",
    "    return labels\n",
    "\n",
    "\n",
    "with strategy.scope():\n",
    "    # 데이터증강기법\n",
    "    train_datagen = tf.keras.preprocessing.image.ImageDataGenerator(\n",
    "        rescale=1./255,\n",
    "        rotation_range=20,\n",
    "        width_shift_range=0.3,\n",
    "        height_shift_range=0.3,\n",
    "        shear_range=0.3,\n",
    "        zoom_range=0.3,\n",
    "        horizontal_flip=True,\n",
    "        preprocessing_function=lambda img: tf.image.random_crop(img, [256, 256, 3])\n",
    "    )\n",
    "\n",
    "    # 훈련 데이터셋\n",
    "    train_directory = 'E:/종설/Training/1/[원천]면류'\n",
    "    train_label_directory = 'E:/종설/Training/2'\n",
    "    train_dataset = train_datagen.flow_from_directory(\n",
    "        train_directory,\n",
    "        target_size=(256, 256),\n",
    "        batch_size=120,\n",
    "        shuffle=True,\n",
    "        seed=42,  # add a seed for reproducibility\n",
    "        follow_links=True,  # follow symbolic links if any\n",
    "        classes=None,  # set to None to use default class mode\n",
    "    )\n",
    "\n",
    "    # 훈련라벨\n",
    "    train_labels = []\n",
    "    for i, image_path in enumerate(train_dataset.filepaths):\n",
    "        labels = read_xml_and_add_labels(image_path, train_label_directory)\n",
    "        train_labels.append(labels)\n",
    "\n",
    "\n",
    "    train_labels = np.array(train_labels)\n",
    "\n",
    "    # 크기조정만\n",
    "    val_datagen = tf.keras.preprocessing.image.ImageDataGenerator(\n",
    "        rescale=1./255,\n",
    "    )\n",
    "\n",
    "    # 검증데이터\n",
    "    val_directory = 'E:/종설/Validation/1/[원천]면류'\n",
    "    val_label_directory = 'E:/종설/Validation/2'\n",
    "    val_dataset = val_datagen.flow_from_directory(\n",
    "        val_directory,\n",
    "        target_size=(256, 256),\n",
    "        batch_size=120,\n",
    "        shuffle=False,\n",
    "        classes=None,  # set to None to use default class mode\n",
    "    )\n",
    "\n",
    "    # 검증라벨\n",
    "    val_labels = []\n",
    "    for i, image_path in enumerate(val_dataset.filepaths):\n",
    "        labels = read_xml_and_add_labels(image_path, val_label_directory)\n",
    "        val_labels.append(labels)\n",
    "\n",
    "    val_labels = np.array(val_labels)\n",
    "\n",
    "    # EfficientNet-B0모델 불러오기\n",
    "    pretrained_model = hub.KerasLayer(\"C:/Users/sj990/MachineLearning/efficientnet_b0_feature-vector_1\", trainable=False)\n",
    "\n",
    "    # 층 추가\n",
    "    model = Sequential()\n",
    "    model.add(pretrained_model)\n",
    "    model.add(Dropout(0.3))\n",
    "    model.add(Dense(512, activation='relu'))\n",
    "    model.add(Dropout(0.3))\n",
    "    model.add(Dense(train_dataset.num_classes, activation='softmax', kernel_regularizer=l2(0.0003)))\n",
    "\n",
    "    # 컴파일 - 학습률조정\n",
    "    model.compile(\n",
    "        optimizer=RMSprop(lr=0.0005),  # Use RMSprop as the optimizer\n",
    "        loss=tf.keras.losses.CategoricalCrossentropy(from_logits=True),\n",
    "        metrics=['accuracy']\n",
    "    )\n",
    "\n",
    "    num_epochs = 50\n",
    "    best_val_acc = 0.0\n",
    "\n",
    "\n",
    "    history = model.fit(\n",
    "        train_dataset,\n",
    "        epochs=num_epochs,\n",
    "        validation_data=val_dataset,\n",
    "    )\n",
    "\n",
    "    # Save the model\n",
    "    best_val_acc = max(history.history['val_accuracy'])\n",
    "    model.save('my_model_noodle_v3.h5')"
   ]
  },
  {
   "cell_type": "code",
   "execution_count": 2,
   "id": "f237e644",
   "metadata": {},
   "outputs": [
    {
     "name": "stdout",
     "output_type": "stream",
     "text": [
      "Model: \"sequential\"\n",
      "_________________________________________________________________\n",
      "Layer (type)                 Output Shape              Param #   \n",
      "=================================================================\n",
      "keras_layer (KerasLayer)     (None, 1280)              4049564   \n",
      "_________________________________________________________________\n",
      "dropout (Dropout)            (None, 1280)              0         \n",
      "_________________________________________________________________\n",
      "dense (Dense)                (None, 512)               655872    \n",
      "_________________________________________________________________\n",
      "dropout_1 (Dropout)          (None, 512)               0         \n",
      "_________________________________________________________________\n",
      "dense_1 (Dense)              (None, 205)               105165    \n",
      "=================================================================\n",
      "Total params: 4,810,601\n",
      "Trainable params: 761,037\n",
      "Non-trainable params: 4,049,564\n",
      "_________________________________________________________________\n"
     ]
    }
   ],
   "source": [
    "model.summary()"
   ]
  },
  {
   "cell_type": "code",
   "execution_count": 3,
   "id": "346a1bfd",
   "metadata": {},
   "outputs": [
    {
     "data": {
      "image/png": "[encoded data removed]",
      "text/plain": [
       "<Figure size 640x480 with 1 Axes>"
      ]
     },
     "metadata": {},
     "output_type": "display_data"
    }
   ],
   "source": [
    "import matplotlib.pyplot as plt\n",
    "\n",
    "# Get the accuracy values from history object\n",
    "train_acc = history.history['accuracy']\n",
    "val_acc = history.history['val_accuracy']\n",
    "\n",
    "# Plot the accuracy values\n",
    "plt.plot(train_acc, label='Training Accuracy')\n",
    "plt.plot(val_acc, label='Validation Accuracy')\n",
    "plt.xlabel('Epoch')\n",
    "plt.ylabel('Accuracy')\n",
    "plt.legend()\n",
    "plt.show()"
   ]
  },
  {
   "cell_type": "code",
   "execution_count": 2,
   "id": "6393ba60",
   "metadata": {},
   "outputs": [
    {
     "name": "stdout",
     "output_type": "stream",
     "text": [
      "결과순위 1: 35161_농심)신라면큰사발면114G (0.44)\n",
      "결과순위 2: 80144_팔도도시락용기86G (0.34)\n",
      "결과순위 3: 65051_엠디에스코리아아라비아따파스타 (0.07)\n"
     ]
    }
   ],
   "source": [
    "import os\n",
    "import tensorflow as tf\n",
    "import tensorflow_hub as hub\n",
    "import numpy as np\n",
    "import matplotlib.pyplot as plt\n",
    "\n",
    "# 라벨링에 사용할 txt파일 만들기\n",
    "directory = 'E:/종설/Training/1/[원천]면류'\n",
    "\n",
    "class_labels = []\n",
    "for filename in os.listdir(directory):\n",
    "    if os.path.isdir(os.path.join(directory, filename)):\n",
    "        class_labels.append(filename)\n",
    "\n",
    "with open('class_labels_noodle.txt', 'w') as file:\n",
    "    for label in class_labels:\n",
    "        file.write(label + '\\n')\n",
    "\n",
    "        \n",
    "        \n",
    "# 모델불러오기\n",
    "model = tf.keras.models.load_model('my_model_noodle_v3.h5', custom_objects={'KerasLayer': hub.KerasLayer})\n",
    "\n",
    "# 이미지 불러오기(jpg or png파일형식)\n",
    "img_path = r'C:\\Users\\sj990\\Desktop\\ex\\2023-04-12_192748.png'\n",
    "img = tf.keras.preprocessing.image.load_img(img_path, target_size=(256, 256))\n",
    "img = tf.keras.preprocessing.image.img_to_array(img)\n",
    "img = img.astype('float32') / 255.0\n",
    "img = np.expand_dims(img, axis=0)\n",
    "\n",
    "# 이미지 예측\n",
    "preds = model.predict(img)\n",
    "\n",
    "# 라벨링된 txt파일 불러와서 사용\n",
    "class_labels = []\n",
    "with open('class_labels_noodle.txt', 'r') as file:\n",
    "    for line in file:\n",
    "        class_labels.append(line.strip())\n",
    "\n",
    "# top3 결과순위\n",
    "top_preds_idx = preds[0].argsort()[::-1][:3]\n",
    "top_preds_labels = [class_labels[idx] for idx in top_preds_idx]\n",
    "top_preds_probs = preds[0][top_preds_idx]\n",
    "\n",
    "# 출력\n",
    "i = 1\n",
    "for label, prob in zip(top_preds_labels, top_preds_probs):\n",
    "    print(f\"결과순위 {i}: {label} ({prob:.2f})\")\n",
    "    i += 1"
   ]
  },
  {
   "cell_type": "code",
   "execution_count": null,
   "id": "7ed13631",
   "metadata": {},
   "outputs": [],
   "source": []
  }
 ],
 "metadata": {
  "kernelspec": {
   "display_name": "tf_gpu",
   "language": "python",
   "name": "tf_gpu"
  },
  "language_info": {
   "codemirror_mode": {
    "name": "ipython",
    "version": 3
   },
   "file_extension": ".py",
   "mimetype": "text/x-python",
   "name": "python",
   "nbconvert_exporter": "python",
   "pygments_lexer": "ipython3",
   "version": "3.9.16"
  }
 },
 "nbformat": 4,
 "nbformat_minor": 5
}
