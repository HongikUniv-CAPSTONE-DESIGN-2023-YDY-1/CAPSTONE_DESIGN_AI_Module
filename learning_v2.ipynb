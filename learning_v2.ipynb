{
 "cells": [
  {
   "cell_type": "code",
   "execution_count": 8,
   "id": "a0f5d983",
   "metadata": {},
   "outputs": [
    {
     "data": {
      "text/plain": [
       "[name: \"/device:CPU:0\"\n",
       " device_type: \"CPU\"\n",
       " memory_limit: 268435456\n",
       " locality {\n",
       " }\n",
       " incarnation: 14958323829355149910,\n",
       " name: \"/device:GPU:0\"\n",
       " device_type: \"GPU\"\n",
       " memory_limit: 10081009664\n",
       " locality {\n",
       "   bus_id: 1\n",
       "   links {\n",
       "   }\n",
       " }\n",
       " incarnation: 16443926071426643424\n",
       " physical_device_desc: \"device: 0, name: NVIDIA GeForce RTX 3060, pci bus id: 0000:01:00.0, compute capability: 8.6\"]"
      ]
     },
     "execution_count": 8,
     "metadata": {},
     "output_type": "execute_result"
    }
   ],
   "source": [
    "from tensorflow.python.client import device_lib\n",
    "device_lib.list_local_devices()"
   ]
  },
  {
   "cell_type": "code",
   "execution_count": 1,
   "id": "525f85e7",
   "metadata": {
    "scrolled": true
   },
   "outputs": [
    {
     "name": "stdout",
     "output_type": "stream",
     "text": [
      "INFO:tensorflow:Using MirroredStrategy with devices ('/job:localhost/replica:0/task:0/device:GPU:0',)\n",
      "Found 23370 images belonging to 205 classes.\n"
     ]
    },
    {
     "name": "stderr",
     "output_type": "stream",
     "text": [
      "C:\\Users\\sj990\\AppData\\Local\\Temp\\ipykernel_10844\\2542121680.py:66: VisibleDeprecationWarning: Creating an ndarray from ragged nested sequences (which is a list-or-tuple of lists-or-tuples-or ndarrays with different lengths or shapes) is deprecated. If you meant to do this, you must specify 'dtype=object' when creating the ndarray.\n",
      "  train_labels = np.array(train_labels)\n"
     ]
    },
    {
     "name": "stdout",
     "output_type": "stream",
     "text": [
      "Found 3075 images belonging to 205 classes.\n"
     ]
    },
    {
     "name": "stderr",
     "output_type": "stream",
     "text": [
      "C:\\Users\\sj990\\AppData\\Local\\Temp\\ipykernel_10844\\2542121680.py:90: VisibleDeprecationWarning: Creating an ndarray from ragged nested sequences (which is a list-or-tuple of lists-or-tuples-or ndarrays with different lengths or shapes) is deprecated. If you meant to do this, you must specify 'dtype=object' when creating the ndarray.\n",
      "  val_labels = np.array(val_labels)\n"
     ]
    },
    {
     "name": "stdout",
     "output_type": "stream",
     "text": [
      "INFO:tensorflow:Reduce to /job:localhost/replica:0/task:0/device:CPU:0 then broadcast to ('/job:localhost/replica:0/task:0/device:CPU:0',).\n",
      "INFO:tensorflow:Reduce to /job:localhost/replica:0/task:0/device:CPU:0 then broadcast to ('/job:localhost/replica:0/task:0/device:CPU:0',).\n",
      "INFO:tensorflow:Reduce to /job:localhost/replica:0/task:0/device:CPU:0 then broadcast to ('/job:localhost/replica:0/task:0/device:CPU:0',).\n",
      "INFO:tensorflow:Reduce to /job:localhost/replica:0/task:0/device:CPU:0 then broadcast to ('/job:localhost/replica:0/task:0/device:CPU:0',).\n"
     ]
    },
    {
     "name": "stderr",
     "output_type": "stream",
     "text": [
      "C:\\Users\\sj990\\anaconda3\\envs\\tf_gpu\\lib\\site-packages\\keras\\optimizer_v2\\optimizer_v2.py:355: UserWarning: The `lr` argument is deprecated, use `learning_rate` instead.\n",
      "  warnings.warn(\n"
     ]
    },
    {
     "name": "stdout",
     "output_type": "stream",
     "text": [
      "WARNING:tensorflow:Using MirroredStrategy eagerly has significant overhead currently. We will be working on improving this in the future, but for now please wrap `call_for_each_replica` or `experimental_run` or `run` inside a tf.function to get the best performance.\n",
      "Epoch 1/50\n"
     ]
    },
    {
     "name": "stderr",
     "output_type": "stream",
     "text": [
      "C:\\Users\\sj990\\anaconda3\\envs\\tf_gpu\\lib\\site-packages\\keras\\backend.py:4846: UserWarning: \"`categorical_crossentropy` received `from_logits=True`, but the `output` argument was produced by a sigmoid or softmax activation and thus does not represent logits. Was this intended?\"\n",
      "  warnings.warn(\n"
     ]
    },
    {
     "name": "stdout",
     "output_type": "stream",
     "text": [
      "INFO:tensorflow:Reduce to /job:localhost/replica:0/task:0/device:CPU:0 then broadcast to ('/job:localhost/replica:0/task:0/device:CPU:0',).\n",
      "INFO:tensorflow:Reduce to /job:localhost/replica:0/task:0/device:CPU:0 then broadcast to ('/job:localhost/replica:0/task:0/device:CPU:0',).\n",
      "INFO:tensorflow:Reduce to /job:localhost/replica:0/task:0/device:CPU:0 then broadcast to ('/job:localhost/replica:0/task:0/device:CPU:0',).\n",
      "INFO:tensorflow:Reduce to /job:localhost/replica:0/task:0/device:CPU:0 then broadcast to ('/job:localhost/replica:0/task:0/device:CPU:0',).\n",
      "INFO:tensorflow:Reduce to /job:localhost/replica:0/task:0/device:CPU:0 then broadcast to ('/job:localhost/replica:0/task:0/device:CPU:0',).\n",
      "INFO:tensorflow:Reduce to /job:localhost/replica:0/task:0/device:CPU:0 then broadcast to ('/job:localhost/replica:0/task:0/device:CPU:0',).\n",
      "195/195 [==============================] - 2641s 14s/step - loss: 3.5854 - accuracy: 0.2553 - val_loss: 1.7357 - val_accuracy: 0.7044\n",
      "Epoch 2/50\n",
      "195/195 [==============================] - 2295s 12s/step - loss: 1.5827 - accuracy: 0.6180 - val_loss: 0.7986 - val_accuracy: 0.8634\n",
      "Epoch 3/50\n",
      "195/195 [==============================] - 2336s 12s/step - loss: 0.9437 - accuracy: 0.7671 - val_loss: 0.4934 - val_accuracy: 0.9089\n",
      "Epoch 4/50\n",
      "195/195 [==============================] - 2322s 12s/step - loss: 0.6889 - accuracy: 0.8275 - val_loss: 0.3852 - val_accuracy: 0.9239\n",
      "Epoch 5/50\n",
      "195/195 [==============================] - 1784s 9s/step - loss: 0.5564 - accuracy: 0.8638 - val_loss: 0.3241 - val_accuracy: 0.9333\n",
      "Epoch 6/50\n",
      "195/195 [==============================] - 1791s 9s/step - loss: 0.4830 - accuracy: 0.8821 - val_loss: 0.2780 - val_accuracy: 0.9473\n",
      "Epoch 7/50\n",
      "195/195 [==============================] - 1792s 9s/step - loss: 0.4285 - accuracy: 0.8992 - val_loss: 0.2596 - val_accuracy: 0.9502\n",
      "Epoch 8/50\n",
      "195/195 [==============================] - 1793s 9s/step - loss: 0.3976 - accuracy: 0.9080 - val_loss: 0.2464 - val_accuracy: 0.9613\n",
      "Epoch 9/50\n",
      "195/195 [==============================] - 1763s 9s/step - loss: 0.3774 - accuracy: 0.9166 - val_loss: 0.2458 - val_accuracy: 0.9558\n",
      "Epoch 10/50\n",
      "195/195 [==============================] - 2186s 11s/step - loss: 0.3594 - accuracy: 0.9212 - val_loss: 0.2361 - val_accuracy: 0.9626\n",
      "Epoch 11/50\n",
      "195/195 [==============================] - 2553s 13s/step - loss: 0.3457 - accuracy: 0.9264 - val_loss: 0.2391 - val_accuracy: 0.9580\n",
      "Epoch 12/50\n",
      "195/195 [==============================] - 1715s 9s/step - loss: 0.3372 - accuracy: 0.9314 - val_loss: 0.2289 - val_accuracy: 0.9659\n",
      "Epoch 13/50\n",
      "195/195 [==============================] - 1736s 9s/step - loss: 0.3333 - accuracy: 0.9342 - val_loss: 0.2172 - val_accuracy: 0.9746\n",
      "Epoch 14/50\n",
      "195/195 [==============================] - 1736s 9s/step - loss: 0.3241 - accuracy: 0.9385 - val_loss: 0.2307 - val_accuracy: 0.9675\n",
      "Epoch 15/50\n",
      "195/195 [==============================] - 1734s 9s/step - loss: 0.3187 - accuracy: 0.9398 - val_loss: 0.2197 - val_accuracy: 0.9743\n",
      "Epoch 16/50\n",
      "195/195 [==============================] - 1736s 9s/step - loss: 0.3181 - accuracy: 0.9418 - val_loss: 0.2228 - val_accuracy: 0.9730\n",
      "Epoch 17/50\n",
      "195/195 [==============================] - 1732s 9s/step - loss: 0.3159 - accuracy: 0.9440 - val_loss: 0.2158 - val_accuracy: 0.9769\n",
      "Epoch 18/50\n",
      "195/195 [==============================] - 1735s 9s/step - loss: 0.3171 - accuracy: 0.9435 - val_loss: 0.2230 - val_accuracy: 0.9727\n",
      "Epoch 19/50\n",
      "195/195 [==============================] - 1734s 9s/step - loss: 0.3096 - accuracy: 0.9484 - val_loss: 0.2372 - val_accuracy: 0.9681\n",
      "Epoch 20/50\n",
      "195/195 [==============================] - 1734s 9s/step - loss: 0.3098 - accuracy: 0.9486 - val_loss: 0.2314 - val_accuracy: 0.9691\n",
      "Epoch 21/50\n",
      "195/195 [==============================] - 1734s 9s/step - loss: 0.3098 - accuracy: 0.9500 - val_loss: 0.2295 - val_accuracy: 0.9688\n",
      "Epoch 22/50\n",
      "195/195 [==============================] - 1731s 9s/step - loss: 0.3158 - accuracy: 0.9485 - val_loss: 0.2328 - val_accuracy: 0.9733\n",
      "Epoch 23/50\n",
      "195/195 [==============================] - 1736s 9s/step - loss: 0.3038 - accuracy: 0.9543 - val_loss: 0.2271 - val_accuracy: 0.9779\n",
      "Epoch 24/50\n",
      "195/195 [==============================] - 1732s 9s/step - loss: 0.3102 - accuracy: 0.9514 - val_loss: 0.2360 - val_accuracy: 0.9746\n",
      "Epoch 25/50\n",
      "195/195 [==============================] - 1738s 9s/step - loss: 0.3106 - accuracy: 0.9528 - val_loss: 0.2289 - val_accuracy: 0.9785\n",
      "Epoch 26/50\n",
      "195/195 [==============================] - 1762s 9s/step - loss: 0.3099 - accuracy: 0.9546 - val_loss: 0.2341 - val_accuracy: 0.9759\n",
      "Epoch 27/50\n",
      "195/195 [==============================] - 1787s 9s/step - loss: 0.3089 - accuracy: 0.9560 - val_loss: 0.2377 - val_accuracy: 0.9750\n",
      "Epoch 28/50\n",
      "195/195 [==============================] - 1732s 9s/step - loss: 0.3137 - accuracy: 0.9543 - val_loss: 0.2462 - val_accuracy: 0.9737\n",
      "Epoch 29/50\n",
      "195/195 [==============================] - 1732s 9s/step - loss: 0.3119 - accuracy: 0.9555 - val_loss: 0.2426 - val_accuracy: 0.9782\n",
      "Epoch 30/50\n",
      "195/195 [==============================] - 1729s 9s/step - loss: 0.3144 - accuracy: 0.9565 - val_loss: 0.2437 - val_accuracy: 0.9763\n",
      "Epoch 31/50\n",
      "195/195 [==============================] - 1728s 9s/step - loss: 0.3127 - accuracy: 0.9565 - val_loss: 0.2457 - val_accuracy: 0.9763\n",
      "Epoch 32/50\n",
      "195/195 [==============================] - 1728s 9s/step - loss: 0.3188 - accuracy: 0.9564 - val_loss: 0.2422 - val_accuracy: 0.9802\n",
      "Epoch 33/50\n",
      "195/195 [==============================] - 1730s 9s/step - loss: 0.3147 - accuracy: 0.9595 - val_loss: 0.2442 - val_accuracy: 0.9798\n",
      "Epoch 34/50\n",
      "195/195 [==============================] - 1738s 9s/step - loss: 0.3173 - accuracy: 0.9582 - val_loss: 0.2482 - val_accuracy: 0.9769\n",
      "Epoch 35/50\n",
      "195/195 [==============================] - 1735s 9s/step - loss: 0.3223 - accuracy: 0.9584 - val_loss: 0.2504 - val_accuracy: 0.9776\n",
      "Epoch 36/50\n",
      "195/195 [==============================] - 1731s 9s/step - loss: 0.3235 - accuracy: 0.9591 - val_loss: 0.2540 - val_accuracy: 0.9802\n",
      "Epoch 37/50\n",
      "195/195 [==============================] - 2347s 12s/step - loss: 0.3236 - accuracy: 0.9609 - val_loss: 0.2477 - val_accuracy: 0.9834\n",
      "Epoch 38/50\n",
      "195/195 [==============================] - 2914s 15s/step - loss: 0.3235 - accuracy: 0.9611 - val_loss: 0.2567 - val_accuracy: 0.9798\n",
      "Epoch 39/50\n",
      "195/195 [==============================] - 2250s 12s/step - loss: 0.3287 - accuracy: 0.9607 - val_loss: 0.2683 - val_accuracy: 0.9772\n",
      "Epoch 40/50\n",
      "195/195 [==============================] - 1972s 10s/step - loss: 0.3333 - accuracy: 0.9599 - val_loss: 0.2620 - val_accuracy: 0.9792\n",
      "Epoch 41/50\n",
      "195/195 [==============================] - 2054s 11s/step - loss: 0.3317 - accuracy: 0.9614 - val_loss: 0.2722 - val_accuracy: 0.9766\n",
      "Epoch 42/50\n",
      "195/195 [==============================] - 1907s 10s/step - loss: 0.3355 - accuracy: 0.9629 - val_loss: 0.2706 - val_accuracy: 0.9828\n",
      "Epoch 43/50\n",
      "195/195 [==============================] - 2034s 10s/step - loss: 0.3374 - accuracy: 0.9620 - val_loss: 0.2729 - val_accuracy: 0.9789\n",
      "Epoch 44/50\n",
      "195/195 [==============================] - 1935s 10s/step - loss: 0.3373 - accuracy: 0.9629 - val_loss: 0.2758 - val_accuracy: 0.9798\n",
      "Epoch 45/50\n",
      "195/195 [==============================] - 1954s 10s/step - loss: 0.3462 - accuracy: 0.9599 - val_loss: 0.2786 - val_accuracy: 0.9802\n",
      "Epoch 46/50\n",
      "195/195 [==============================] - 2335s 12s/step - loss: 0.3458 - accuracy: 0.9615 - val_loss: 0.2796 - val_accuracy: 0.9795\n",
      "Epoch 47/50\n",
      "195/195 [==============================] - 2221s 11s/step - loss: 0.3449 - accuracy: 0.9629 - val_loss: 0.2826 - val_accuracy: 0.9782\n",
      "Epoch 48/50\n",
      "195/195 [==============================] - 2393s 12s/step - loss: 0.3446 - accuracy: 0.9644 - val_loss: 0.2838 - val_accuracy: 0.9789\n",
      "Epoch 49/50\n",
      "195/195 [==============================] - 2474s 13s/step - loss: 0.3532 - accuracy: 0.9629 - val_loss: 0.2874 - val_accuracy: 0.9805\n",
      "Epoch 50/50\n",
      "195/195 [==============================] - 2146s 11s/step - loss: 0.3544 - accuracy: 0.9631 - val_loss: 0.2916 - val_accuracy: 0.9795\n"
     ]
    }
   ],
   "source": [
    "import tensorflow as tf\n",
    "import tensorflow_hub as hub\n",
    "from tensorflow.keras.models import Sequential\n",
    "from tensorflow.keras.layers import Dropout, Dense\n",
    "from tensorflow.keras.regularizers import l2\n",
    "import os\n",
    "import numpy as np\n",
    "import xml.etree.ElementTree as ET\n",
    "import functools\n",
    "from tensorflow.keras.optimizers import RMSprop\n",
    "\n",
    "\n",
    "strategy = tf.distribute.MirroredStrategy()\n",
    "\n",
    "# 라벨\n",
    "def read_xml_file(xml_file_path):\n",
    "    tree = ET.parse(xml_file_path)\n",
    "    root = tree.getroot()\n",
    "    labels = []\n",
    "    for obj in root.findall('object'):\n",
    "        label = obj.find('name').text\n",
    "        labels.append(label)\n",
    "    return labels\n",
    "\n",
    "def read_xml_and_add_labels(image_path, label_directory):\n",
    "    image_name = os.path.basename(image_path)\n",
    "    class_name = os.path.dirname(image_path).split(os.path.sep)[-1]\n",
    "    xml_file_path = os.path.join(label_directory, class_name, image_name[:-4] + '.xml')\n",
    "    labels = read_xml_file(xml_file_path)\n",
    "    return labels\n",
    "\n",
    "\n",
    "with strategy.scope():\n",
    "    # 데이터증강기법\n",
    "    train_datagen = tf.keras.preprocessing.image.ImageDataGenerator(\n",
    "        rescale=1./255,\n",
    "        rotation_range=20,\n",
    "        width_shift_range=0.3,\n",
    "        height_shift_range=0.3,\n",
    "        shear_range=0.3,\n",
    "        zoom_range=0.3,\n",
    "        horizontal_flip=True,\n",
    "        preprocessing_function=lambda img: tf.image.random_crop(img, [256, 256, 3])\n",
    "    )\n",
    "\n",
    "    # 훈련 데이터셋\n",
    "    train_directory = 'E:/종설/Training/1/[원천]면류'\n",
    "    train_label_directory = 'E:/종설/Training/2'\n",
    "    train_dataset = train_datagen.flow_from_directory(\n",
    "        train_directory,\n",
    "        target_size=(256, 256),\n",
    "        batch_size=120,\n",
    "        shuffle=True,\n",
    "        seed=42,  # add a seed for reproducibility\n",
    "        follow_links=True,  # follow symbolic links if any\n",
    "        classes=None,  # set to None to use default class mode\n",
    "    )\n",
    "\n",
    "    # 훈련라벨\n",
    "    train_labels = []\n",
    "    for i, image_path in enumerate(train_dataset.filepaths):\n",
    "        labels = read_xml_and_add_labels(image_path, train_label_directory)\n",
    "        train_labels.append(labels)\n",
    "\n",
    "\n",
    "    train_labels = np.array(train_labels)\n",
    "\n",
    "    # 크기조정만\n",
    "    val_datagen = tf.keras.preprocessing.image.ImageDataGenerator(\n",
    "        rescale=1./255,\n",
    "    )\n",
    "\n",
    "    # 검증데이터\n",
    "    val_directory = 'E:/종설/Validation/1/[원천]면류'\n",
    "    val_label_directory = 'E:/종설/Validation/2'\n",
    "    val_dataset = val_datagen.flow_from_directory(\n",
    "        val_directory,\n",
    "        target_size=(256, 256),\n",
    "        batch_size=120,\n",
    "        shuffle=False,\n",
    "        classes=None,  # set to None to use default class mode\n",
    "    )\n",
    "\n",
    "    # 검증라벨\n",
    "    val_labels = []\n",
    "    for i, image_path in enumerate(val_dataset.filepaths):\n",
    "        labels = read_xml_and_add_labels(image_path, val_label_directory)\n",
    "        val_labels.append(labels)\n",
    "\n",
    "    val_labels = np.array(val_labels)\n",
    "\n",
    "    # EfficientNet-B0모델 불러오기\n",
    "    pretrained_model = hub.KerasLayer(\"C:/Users/sj990/MachineLearning/efficientnet_b0_feature-vector_1\", trainable=False)\n",
    "\n",
    "    # 층 추가\n",
    "    model = Sequential()\n",
    "    model.add(pretrained_model)\n",
    "    model.add(Dropout(0.3))\n",
    "    model.add(Dense(512, activation='relu'))\n",
    "    model.add(Dropout(0.3))\n",
    "    model.add(Dense(train_dataset.num_classes, activation='softmax', kernel_regularizer=l2(0.0001)))\n",
    "\n",
    "    # 컴파일 - 학습률조정\n",
    "    model.compile(\n",
    "        optimizer=RMSprop(lr=0.0005),  # Use RMSprop as the optimizer\n",
    "        loss=tf.keras.losses.CategoricalCrossentropy(from_logits=True),\n",
    "        metrics=['accuracy']\n",
    "    )\n",
    "\n",
    "    num_epochs = 50\n",
    "    best_val_acc = 0.0\n",
    "\n",
    "\n",
    "    history = model.fit(\n",
    "        train_dataset,\n",
    "        epochs=num_epochs,\n",
    "        validation_data=val_dataset,\n",
    "    )\n",
    "\n",
    "    # Save the model\n",
    "    best_val_acc = max(history.history['val_accuracy'])\n",
    "    model.save('my_model_noodle_v2.h5')"
   ]
  },
  {
   "cell_type": "code",
   "execution_count": 2,
   "id": "f237e644",
   "metadata": {},
   "outputs": [
    {
     "name": "stdout",
     "output_type": "stream",
     "text": [
      "Model: \"sequential\"\n",
      "_________________________________________________________________\n",
      "Layer (type)                 Output Shape              Param #   \n",
      "=================================================================\n",
      "keras_layer (KerasLayer)     (None, 1280)              4049564   \n",
      "_________________________________________________________________\n",
      "dropout (Dropout)            (None, 1280)              0         \n",
      "_________________________________________________________________\n",
      "dense (Dense)                (None, 512)               655872    \n",
      "_________________________________________________________________\n",
      "dropout_1 (Dropout)          (None, 512)               0         \n",
      "_________________________________________________________________\n",
      "dense_1 (Dense)              (None, 205)               105165    \n",
      "=================================================================\n",
      "Total params: 4,810,601\n",
      "Trainable params: 761,037\n",
      "Non-trainable params: 4,049,564\n",
      "_________________________________________________________________\n"
     ]
    }
   ],
   "source": [
    "model.summary()"
   ]
  },
  {
   "cell_type": "code",
   "execution_count": 3,
   "id": "346a1bfd",
   "metadata": {},
   "outputs": [
    {
     "data": {
      "image/png": "[encoded data removed]",
      "text/plain": [
       "<Figure size 640x480 with 1 Axes>"
      ]
     },
     "metadata": {},
     "output_type": "display_data"
    }
   ],
   "source": [
    "import matplotlib.pyplot as plt\n",
    "\n",
    "# Get the accuracy values from history object\n",
    "train_acc = history.history['accuracy']\n",
    "val_acc = history.history['val_accuracy']\n",
    "\n",
    "# Plot the accuracy values\n",
    "plt.plot(train_acc, label='Training Accuracy')\n",
    "plt.plot(val_acc, label='Validation Accuracy')\n",
    "plt.xlabel('Epoch')\n",
    "plt.ylabel('Accuracy')\n",
    "plt.legend()\n",
    "plt.show()"
   ]
  },
  {
   "cell_type": "code",
   "execution_count": 18,
   "id": "6393ba60",
   "metadata": {},
   "outputs": [
    {
     "name": "stdout",
     "output_type": "stream",
     "text": [
      "결과순위 1: 55041_농심짜왕큰사발면 (1.00)\n",
      "결과순위 2: 40137_삼양)짜짜로니140G(봉지) (0.00)\n",
      "결과순위 3: A40029_농심쌀국수 (0.00)\n"
     ]
    }
   ],
   "source": [
    "import os\n",
    "import tensorflow as tf\n",
    "import tensorflow_hub as hub\n",
    "import numpy as np\n",
    "import matplotlib.pyplot as plt\n",
    "\n",
    "# Directory and file paths\n",
    "directory = 'E:/종설/Training/1/[원천]면류'\n",
    "class_labels_file = 'class_labels_noodle.txt'\n",
    "model_file = 'my_model_noodle_v2.h5'\n",
    "\n",
    "# Step 1: Save class labels to text file\n",
    "class_labels = []\n",
    "for filename in os.listdir(directory):\n",
    "    if os.path.isdir(os.path.join(directory, filename)):\n",
    "        class_labels.append(filename)\n",
    "\n",
    "with open(class_labels_file, 'w') as file:\n",
    "    for label in class_labels:\n",
    "        file.write(label + '\\n')\n",
    "\n",
    "# Step 2: Load the model\n",
    "model = tf.keras.models.load_model(model_file, custom_objects={'KerasLayer': hub.KerasLayer})\n",
    "\n",
    "# Step 3: Load test image and preprocess\n",
    "img_path = r'C:\\Users\\sj990\\Desktop\\ex\\456.png'\n",
    "img = tf.keras.preprocessing.image.load_img(img_path, target_size=(256, 256))\n",
    "img = tf.keras.preprocessing.image.img_to_array(img)\n",
    "img = img.astype('float32') / 255.0\n",
    "img = np.expand_dims(img, axis=0)\n",
    "\n",
    "# Step 4: Predict the label of the image\n",
    "preds = model.predict(img)\n",
    "\n",
    "# Step 5: Load class labels from the text file\n",
    "class_labels = []\n",
    "with open(class_labels_file, 'r') as file:\n",
    "    for line in file:\n",
    "        class_labels.append(line.strip())\n",
    "\n",
    "# Step 6: Get the top three predicted labels and probabilities\n",
    "top_preds_idx = preds[0].argsort()[::-1][:3]\n",
    "top_preds_labels = [class_labels[idx] for idx in top_preds_idx]\n",
    "top_preds_probs = preds[0][top_preds_idx]\n",
    "\n",
    "# Step 7: Print out the top three predicted labels and probabilities\n",
    "i = 1\n",
    "for label, prob in zip(top_preds_labels, top_preds_probs):\n",
    "    print(f\"결과순위 {i}: {label} ({prob:.2f})\")\n",
    "    i += 1"
   ]
  },
  {
   "cell_type": "code",
   "execution_count": null,
   "id": "7ed13631",
   "metadata": {},
   "outputs": [],
   "source": []
  }
 ],
 "metadata": {
  "kernelspec": {
   "display_name": "tf_gpu",
   "language": "python",
   "name": "tf_gpu"
  },
  "language_info": {
   "codemirror_mode": {
    "name": "ipython",
    "version": 3
   },
   "file_extension": ".py",
   "mimetype": "text/x-python",
   "name": "python",
   "nbconvert_exporter": "python",
   "pygments_lexer": "ipython3",
   "version": "3.9.16"
  }
 },
 "nbformat": 4,
 "nbformat_minor": 5
}
