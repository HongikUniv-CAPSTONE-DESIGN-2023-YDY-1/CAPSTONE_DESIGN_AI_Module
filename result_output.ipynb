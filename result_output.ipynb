{
 "cells": [
  {
   "cell_type": "code",
   "execution_count": 10,
   "id": "47c59d77",
   "metadata": {},
   "outputs": [
    {
     "name": "stdout",
     "output_type": "stream",
     "text": [
      "WARNING:tensorflow:6 out of the last 6 calls to <function Model.make_predict_function.<locals>.predict_function at 0x0000024C4BA5E670> triggered tf.function retracing. Tracing is expensive and the excessive number of tracings could be due to (1) creating @tf.function repeatedly in a loop, (2) passing tensors with different shapes, (3) passing Python objects instead of tensors. For (1), please define your @tf.function outside of the loop. For (2), @tf.function has experimental_relax_shapes=True option that relaxes argument shapes that can avoid unnecessary retracing. For (3), please refer to https://www.tensorflow.org/guide/function#controlling_retracing and https://www.tensorflow.org/api_docs/python/tf/function for  more details.\n"
     ]
    },
    {
     "data": {
      "text/plain": [
       "[{'상품': '35161_농심)신라면큰사발면114G', '정확도': 0.98}]"
      ]
     },
     "execution_count": 10,
     "metadata": {},
     "output_type": "execute_result"
    }
   ],
   "source": [
    "import tensorflow as tf\n",
    "import tensorflow_hub as hub\n",
    "import numpy as np\n",
    "        \n",
    "# 1. 모델 불러오기\n",
    "model = tf.keras.models.load_model('my_model_noodle_v2.h5', custom_objects={'KerasLayer': hub.KerasLayer})\n",
    "\n",
    "# 2. 이미지 불러오기(jpg or png파일형식)\n",
    "img_path = r'C:\\Users\\sj990\\Desktop\\ex\\shin.jpg'\n",
    "\n",
    "# 이미지전처리, 사이즈조정만\n",
    "img = tf.keras.preprocessing.image.load_img(img_path, target_size=(256, 256))\n",
    "img = tf.keras.preprocessing.image.img_to_array(img)\n",
    "img = img.astype('float32') / 255.0\n",
    "img = np.expand_dims(img, axis=0)\n",
    "\n",
    "# 이미지 예측\n",
    "preds = model.predict(img)\n",
    "\n",
    "class_labels = []\n",
    "\n",
    "# 3. txt파일 불러오기\n",
    "with open('class_labels_noodle.txt', 'r') as file:\n",
    "    for line in file:\n",
    "        class_labels.append(line.strip())\n",
    "\n",
    "# 결과값 상위 1개\n",
    "top_preds_idx = preds[0].argsort()[ : : -1][ : 1]\n",
    "top_preds_labels = [class_labels[idx] for idx in top_preds_idx]\n",
    "top_preds_probs = preds[0][top_preds_idx]\n",
    "\n",
    "results = []\n",
    "\n",
    "#json형식 results\n",
    "for label, prob in zip(top_preds_labels, top_preds_probs):\n",
    "    result = {\n",
    "        '상품': label,\n",
    "        '정확도': round(float(prob), 2)\n",
    "    }\n",
    "    results.append(result)\n",
    "        \n",
    "'''\n",
    "#json파일 저장필요할시 사용\n",
    "with open('results.json', 'w', encoding='utf-8') as file:\n",
    "    json.dump(results, file, ensure_ascii=False)\n",
    "'''   \n",
    "\n",
    "#출력예시\n",
    "results\n"
   ]
  },
  {
   "cell_type": "code",
   "execution_count": 8,
   "id": "578a29a8",
   "metadata": {},
   "outputs": [
    {
     "name": "stdout",
     "output_type": "stream",
     "text": [
      "['35161_농심)신라면큰사발면114G']\n"
     ]
    }
   ],
   "source": [
    "# \n",
    "product_info = [result['상품'] for result in results]\n",
    "print(product_info)\n"
   ]
  },
  {
   "cell_type": "code",
   "execution_count": 9,
   "id": "87f4d8e2",
   "metadata": {},
   "outputs": [
    {
     "data": {
      "text/plain": [
       "[{'상품': '35161_농심)신라면큰사발면114G', '정확도': 0.98}]"
      ]
     },
     "execution_count": 9,
     "metadata": {},
     "output_type": "execute_result"
    }
   ],
   "source": [
    "results"
   ]
  }
 ],
 "metadata": {
  "kernelspec": {
   "display_name": "tf_gpu",
   "language": "python",
   "name": "tf_gpu"
  },
  "language_info": {
   "codemirror_mode": {
    "name": "ipython",
    "version": 3
   },
   "file_extension": ".py",
   "mimetype": "text/x-python",
   "name": "python",
   "nbconvert_exporter": "python",
   "pygments_lexer": "ipython3",
   "version": "3.9.16"
  }
 },
 "nbformat": 4,
 "nbformat_minor": 5
}
