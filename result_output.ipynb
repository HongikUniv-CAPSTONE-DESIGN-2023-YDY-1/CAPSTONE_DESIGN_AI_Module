{
 "cells": [
  {
   "cell_type": "code",
   "execution_count": 3,
   "id": "47c59d77",
   "metadata": {},
   "outputs": [
    {
     "name": "stdout",
     "output_type": "stream",
     "text": [
      "결과순위 1: 35161_농심)신라면큰사발면114G (0.60)\n",
      "결과순위 2: 90130_농심오징어짬뽕큰사발115G (0.10)\n",
      "결과순위 3: 10102_농심신라면컵65G (0.07)\n"
     ]
    }
   ],
   "source": [
    "import os\n",
    "import tensorflow as tf\n",
    "import tensorflow_hub as hub\n",
    "import numpy as np\n",
    "import matplotlib.pyplot as plt\n",
    "        \n",
    "# 모델불러오기\n",
    "model = tf.keras.models.load_model('my_model_noodle_v3.h5', custom_objects={'KerasLayer': hub.KerasLayer})\n",
    "\n",
    "# 이미지 불러오기(jpg or png파일형식)\n",
    "img_path = r'C:\\Users\\sj990\\Desktop\\ex\\shin.jpg'\n",
    "img = tf.keras.preprocessing.image.load_img(img_path, target_size=(256, 256))\n",
    "img = tf.keras.preprocessing.image.img_to_array(img)\n",
    "img = img.astype('float32') / 255.0\n",
    "img = np.expand_dims(img, axis=0)\n",
    "\n",
    "# 이미지 예측\n",
    "preds = model.predict(img)\n",
    "\n",
    "# 라벨링된 txt파일 불러와서 사용\n",
    "class_labels = []\n",
    "with open('class_labels_noodle.txt', 'r') as file:\n",
    "    for line in file:\n",
    "        class_labels.append(line.strip())\n",
    "\n",
    "# top3 결과순위\n",
    "top_preds_idx = preds[0].argsort()[::-1][:3]\n",
    "top_preds_labels = [class_labels[idx] for idx in top_preds_idx]\n",
    "top_preds_probs = preds[0][top_preds_idx]\n",
    "\n",
    "# 출력\n",
    "i = 1\n",
    "for label, prob in zip(top_preds_labels, top_preds_probs):\n",
    "    print(f\"결과순위 {i}: {label} ({prob:.2f})\")\n",
    "    i += 1"
   ]
  },
  {
   "cell_type": "code",
   "execution_count": null,
   "id": "578a29a8",
   "metadata": {},
   "outputs": [],
   "source": []
  }
 ],
 "metadata": {
  "kernelspec": {
   "display_name": "tf_gpu",
   "language": "python",
   "name": "tf_gpu"
  },
  "language_info": {
   "codemirror_mode": {
    "name": "ipython",
    "version": 3
   },
   "file_extension": ".py",
   "mimetype": "text/x-python",
   "name": "python",
   "nbconvert_exporter": "python",
   "pygments_lexer": "ipython3",
   "version": "3.9.16"
  }
 },
 "nbformat": 4,
 "nbformat_minor": 5
}
