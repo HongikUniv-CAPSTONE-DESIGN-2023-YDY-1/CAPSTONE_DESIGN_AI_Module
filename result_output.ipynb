{
 "cells": [
  {
   "cell_type": "code",
   "execution_count": 27,
   "id": "47c59d77",
   "metadata": {},
   "outputs": [
    {
     "name": "stdout",
     "output_type": "stream",
     "text": [
      "1/1 [==============================] - 0s 381ms/step\n",
      "[{'상품': '매운새우깡_ _90', '정확도': 0.87}]\n"
     ]
    },
    {
     "data": {
      "text/plain": [
       "'\\n# 사용한 이미지 파일 삭제 필요할시 주석 제거후 사용\\nif results != None :\\n    os.remove(image_path)\\n'"
      ]
     },
     "execution_count": 27,
     "metadata": {},
     "output_type": "execute_result"
    }
   ],
   "source": [
    "import tensorflow as tf\n",
    "import tensorflow_hub as hub\n",
    "import numpy as np\n",
    "import glob     \n",
    "import json\n",
    "import os\n",
    "\n",
    "# 1. 모델 불러오기\n",
    "model = tf.keras.models.load_model(r'C:\\Users\\sj990\\Desktop\\1\\my_model_all_v1.h5', custom_objects={'KerasLayer': hub.KerasLayer})\n",
    "\n",
    "\n",
    "# 경로설정\n",
    "image_directory = r'C:\\Users\\sj990\\Desktop\\1'\n",
    "\n",
    "# jpg, png, jpeg 형식 (리스트형식으로 저장된다, 경로에는 파일한장만 존재하게)\n",
    "image_files = glob.glob(image_directory + '\\*.png') + glob.glob(image_directory + '\\*.jpg') + glob.glob(image_directory + '\\*.jpeg')\n",
    "\n",
    "# 리스트중 첫번째것만 사용\n",
    "image_path = image_files[0]\n",
    "\n",
    "\n",
    "# 이미지전처리, 사이즈조정만\n",
    "img = tf.keras.preprocessing.image.load_img(image_path, target_size=(256, 256))\n",
    "img = tf.keras.preprocessing.image.img_to_array(img)\n",
    "img = img.astype('float32') / 255.0\n",
    "img = np.expand_dims(img, axis=0)\n",
    "\n",
    "# 이미지 예측\n",
    "preds = model.predict(img)\n",
    "\n",
    "class_labels = []\n",
    "\n",
    "# 3. txt파일 불러오기\n",
    "with open(r'C:\\Users\\sj990\\Desktop\\1\\my_model_all_label.txt', 'r') as file:\n",
    "    for line in file:\n",
    "        class_labels.append(line.strip())\n",
    "\n",
    "# 결과값 상위 1개\n",
    "top_preds_idx = preds[0].argsort()[ : : -1][ : 1]\n",
    "top_preds_labels = [class_labels[idx] for idx in top_preds_idx]\n",
    "top_preds_probs = preds[0][top_preds_idx]\n",
    "\n",
    "results = []\n",
    "\n",
    "#json형식 results\n",
    "for label, prob in zip(top_preds_labels, top_preds_probs):\n",
    "    result = {\n",
    "        '상품': label,\n",
    "        '정확도': round(float(prob), 2)\n",
    "    }\n",
    "    results.append(result)\n",
    "        \n",
    "        \n",
    "'''\n",
    "# json파일 저장필요할시 주석 제거후 사용\n",
    "with open('results.json', 'w', encoding='utf-8') as file:\n",
    "    json.dump(results, file, ensure_ascii=False)\n",
    "'''\n",
    "\n",
    "\n",
    "#출력예시\n",
    "print(results)\n",
    "\n",
    "'''\n",
    "# 사용한 이미지 파일 삭제 필요할시 주석 제거후 사용\n",
    "if results != None :\n",
    "    os.remove(image_path)\n",
    "'''"
   ]
  },
  {
   "cell_type": "code",
   "execution_count": 5,
   "id": "578a29a8",
   "metadata": {},
   "outputs": [
    {
     "name": "stdout",
     "output_type": "stream",
     "text": [
      "['35161_농심)신라면큰사발면114G']\n"
     ]
    }
   ],
   "source": [
    "# \n",
    "product_info = [result['상품'] for result in results]\n",
    "print(product_info)\n"
   ]
  },
  {
   "cell_type": "code",
   "execution_count": 6,
   "id": "76a2c188",
   "metadata": {},
   "outputs": [
    {
     "data": {
      "text/plain": [
       "[{'상품': '35161_농심)신라면큰사발면114G', '정확도': 0.98}]"
      ]
     },
     "execution_count": 6,
     "metadata": {},
     "output_type": "execute_result"
    }
   ],
   "source": [
    "results"
   ]
  },
  {
   "cell_type": "code",
   "execution_count": null,
   "id": "b28f0459",
   "metadata": {},
   "outputs": [],
   "source": []
  }
 ],
 "metadata": {
  "kernelspec": {
   "display_name": "python39",
   "language": "python",
   "name": "python39"
  },
  "language_info": {
   "codemirror_mode": {
    "name": "ipython",
    "version": 3
   },
   "file_extension": ".py",
   "mimetype": "text/x-python",
   "name": "python",
   "nbconvert_exporter": "python",
   "pygments_lexer": "ipython3",
   "version": "3.9.16"
  }
 },
 "nbformat": 4,
 "nbformat_minor": 5
}
