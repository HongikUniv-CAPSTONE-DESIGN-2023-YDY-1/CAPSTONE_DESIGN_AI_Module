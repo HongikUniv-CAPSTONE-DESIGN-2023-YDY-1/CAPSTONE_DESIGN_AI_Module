{
 "cells": [
  {
   "cell_type": "code",
   "execution_count": 2,
   "id": "0baa7fc6",
   "metadata": {},
   "outputs": [],
   "source": [
    "import os\n",
    "\n",
    "# 라벨링에 사용할 txt파일 만들기\n",
    "directory = 'E:/종설/Training/1/[원천]면류'\n",
    "\n",
    "class_labels = []\n",
    "for filename in os.listdir(directory):\n",
    "    if os.path.isdir(os.path.join(directory, filename)):\n",
    "        class_labels.append(filename)\n",
    "\n",
    "with open('class_labels_noodle.txt', 'w') as file:\n",
    "    for label in class_labels:\n",
    "        file.write(label + '\\n')"
   ]
  },
  {
   "cell_type": "code",
   "execution_count": null,
   "id": "1fe9e26a",
   "metadata": {},
   "outputs": [],
   "source": []
  },
  {
   "cell_type": "code",
   "execution_count": null,
   "id": "459f0cf6",
   "metadata": {},
   "outputs": [],
   "source": []
  }
 ],
 "metadata": {
  "kernelspec": {
   "display_name": "tf_gpu",
   "language": "python",
   "name": "tf_gpu"
  },
  "language_info": {
   "codemirror_mode": {
    "name": "ipython",
    "version": 3
   },
   "file_extension": ".py",
   "mimetype": "text/x-python",
   "name": "python",
   "nbconvert_exporter": "python",
   "pygments_lexer": "ipython3",
   "version": "3.9.16"
  }
 },
 "nbformat": 4,
 "nbformat_minor": 5
}
